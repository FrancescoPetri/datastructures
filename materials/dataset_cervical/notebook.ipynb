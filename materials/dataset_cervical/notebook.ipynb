{
  "cells": [
    {
      "metadata": {
        "_uuid": "0d1fc1d59e6ae696fce6f90eba96bdf7f9de220a",
        "_cell_guid": "2e1dfd2a-7f57-e932-5858-a1bee4409bb1"
      },
      "cell_type": "markdown",
      "source": "## Predicting whether a tissue sample is a tumor or normal from miRNA expression data using bagging support vector machines\n#The code is forked and only slighlty modified from https://www.kaggle.com/thomasnelson/predicting-if-sample-is-tumor-bagsvm, I just tried to fit it more to what I encounter in day-to-day work. All credits to the original poster"
    },
    {
      "metadata": {
        "_uuid": "62e91545a233f39c0ef3e9ff8b666ab7adbd4133",
        "_cell_guid": "e1dc69f4-e635-2add-56a1-4707cf840c10"
      },
      "cell_type": "markdown",
      "source": "### Import modules and the data"
    },
    {
      "metadata": {
        "_uuid": "ef5a945bf8d0fa0a50487a0e0deafd0ac08e5277",
        "_cell_guid": "a0cd69ca-9cd5-a033-9f5a-b9e410db21a2",
        "collapsed": true,
        "trusted": false
      },
      "cell_type": "code",
      "source": "import numpy as np\nimport pandas as pd\nimport matplotlib.pyplot as plt\n%matplotlib inline",
      "execution_count": 47,
      "outputs": []
    },
    {
      "metadata": {
        "_uuid": "7f69552b27f8016e4798d7aace9c07a7e29fa71c",
        "_cell_guid": "6f676988-1f02-eb45-950c-7e0b3212a4aa",
        "collapsed": true,
        "trusted": false
      },
      "cell_type": "code",
      "source": "data = pd.read_csv(\"../input/cervical.csv\")",
      "execution_count": 48,
      "outputs": []
    },
    {
      "metadata": {
        "_uuid": "1ff6c8d97bbe706b7222c6c6d06e8d8bc63975e4",
        "_cell_guid": "6af4bdaa-2ca8-d8b5-9939-07293bd3ee70"
      },
      "cell_type": "markdown",
      "source": "### Take a look at the top of the data, we have 714 features and 58 samples, plus a column of miRNA names."
    },
    {
      "metadata": {
        "_uuid": "67e80ec351b6a63c9a92ae5aef3ed752a480654a",
        "_cell_guid": "9a02acf3-6b8e-fb2c-1173-3aba240bf4fc",
        "trusted": false,
        "collapsed": true
      },
      "cell_type": "code",
      "source": "print(data.shape)\ndata.head()",
      "execution_count": 49,
      "outputs": []
    },
    {
      "metadata": {
        "_uuid": "b5eb30c923db81270650125c4d3837295adab40c",
        "_cell_guid": "a11aac11-91b5-ed0f-8ad0-18b626a4e6d5"
      },
      "cell_type": "markdown",
      "source": "### Let's look at the library sizes (total read counts per sample)"
    },
    {
      "metadata": {
        "_uuid": "308d13a1e4e06c0c904784c5df530e247428db6f",
        "_cell_guid": "d9514702-5493-3b86-0818-a2bb272b7eea",
        "trusted": false,
        "collapsed": true
      },
      "cell_type": "code",
      "source": "sizes = data.sum(numeric_only=True)\nsizes.plot.bar()",
      "execution_count": 50,
      "outputs": []
    },
    {
      "metadata": {
        "_uuid": "e02426f553b207ac88c2a82fa9dc49ab8987ef39",
        "_cell_guid": "a870f703-242f-1448-6f3b-9cd3a309423f"
      },
      "cell_type": "markdown",
      "source": "### Normalization\n\nOur library sizes are very different.  Standard practice is to use some normalization method.\n\nHere I use the normalization method of counts per milion (CPM).  We divide each count by the library size to give the proportion of total reads for each gene, then multiply by 1 million to get counts per 1 million."
    },
    {
      "metadata": {
        "_uuid": "95514aaabf61a0e4e26f2c2a98fcb453d98b9b16",
        "_cell_guid": "80b33e97-00d0-f286-dbfd-58535029d0a7",
        "collapsed": true,
        "trusted": false
      },
      "cell_type": "code",
      "source": "ID = data.ID\ndata = data.drop('ID', 1)\nsums = data.sum()\ncpm = (data.div(sums))*1000000\ncpm.insert(loc=0, column='ID', value=ID)",
      "execution_count": 51,
      "outputs": []
    },
    {
      "metadata": {
        "_uuid": "d58b4da372f85558056321f90fc86937b1a56176",
        "_cell_guid": "07a5a1bc-342b-b683-88cb-f014f522b0c5",
        "trusted": false,
        "collapsed": true
      },
      "cell_type": "code",
      "source": "print(cpm.shape)\ncpm.head()",
      "execution_count": 52,
      "outputs": []
    },
    {
      "metadata": {
        "_uuid": "0c1807403507303ac05b50dcbaec7f044a8d33d9",
        "_cell_guid": "9d20dfe5-5787-67ff-5ed0-953a6685d380",
        "trusted": false,
        "collapsed": true
      },
      "cell_type": "code",
      "source": "sizes = cpm.sum(numeric_only=True)\nsizes.plot.bar()",
      "execution_count": 53,
      "outputs": []
    },
    {
      "metadata": {
        "_uuid": "c7cc2475021cf1998bc3a295d29f4789c417108b",
        "_cell_guid": "b7d537b1-8baf-cd5f-1670-f6bfb55fddfc"
      },
      "cell_type": "markdown",
      "source": "### Here I re-format the data into a form suitable for input into the machine learning algorithm (put smples as rows and features as columns and create a vector of class labels for scikit-learn)"
    },
    {
      "metadata": {
        "_uuid": "db688ff751e49d281d57c089fa18ceadfcc439ec",
        "_cell_guid": "b81ff7a4-545d-43fa-bb65-854b74385c40",
        "collapsed": true,
        "trusted": false
      },
      "cell_type": "code",
      "source": "cpm = cpm.transpose()\ncpm = np.array(cpm[1:])\nclass_labels = np.array([\"normal\"]*29 + [\"tumor\"]*29)",
      "execution_count": 54,
      "outputs": []
    },
    {
      "metadata": {
        "_uuid": "da9fea09b0ce084a2e7932369a51828e1e007342",
        "_cell_guid": "b89edb87-472d-41c5-4ade-c9e38e54b837",
        "trusted": false,
        "collapsed": true
      },
      "cell_type": "code",
      "source": "cpm",
      "execution_count": 55,
      "outputs": []
    },
    {
      "metadata": {
        "_uuid": "02cd220686041c7cf3423b67800e53a060a597c7",
        "_cell_guid": "a0bbb40d-c37b-639d-6540-b9263c13c382",
        "trusted": false,
        "collapsed": true
      },
      "cell_type": "code",
      "source": "class_labels",
      "execution_count": 56,
      "outputs": []
    },
    {
      "metadata": {
        "_uuid": "06b4c6467a98bc57c8e023da52900f85969b732a",
        "_cell_guid": "ca15a773-e6be-e4dc-86f1-23ed15101d9c"
      },
      "cell_type": "markdown",
      "source": "### Now we need to scale the data, that prevents the really highly expressed miRNA's from overwhelming influence on the model.  We get a warning about converting data type but thats okay."
    },
    {
      "metadata": {
        "_uuid": "57275bfcbc492756706774d95eaedd8026da037d",
        "_cell_guid": "2c90a6cc-c8a5-7e6d-ccaf-c6d945111b76",
        "trusted": false,
        "collapsed": true
      },
      "cell_type": "code",
      "source": "from sklearn.preprocessing import StandardScaler\n\nsc_cpm = StandardScaler()\ncpm = sc_cpm.fit_transform(cpm)",
      "execution_count": 57,
      "outputs": []
    },
    {
      "metadata": {
        "_uuid": "1990ee83c657eb7f22027a840dc7d21ae2d8180b",
        "_cell_guid": "95ace64d-71f5-887e-3746-77ec864aa0a1",
        "trusted": false,
        "collapsed": true
      },
      "cell_type": "code",
      "source": "cpm",
      "execution_count": 58,
      "outputs": []
    },
    {
      "metadata": {
        "_uuid": "c6b881288535cc19b89860b50e593be944930dac",
        "_cell_guid": "9c768151-21c9-1712-42a6-5d60d97a5fee"
      },
      "cell_type": "markdown",
      "source": "### Now we'll use support vector machines with a linear kernel to create a classifier.  Here I use bagging (bootstrap aggregating), an ensemble method, to avoid overfitting a small data set. "
    },
    {
      "metadata": {
        "_uuid": "18e2578c5ec6070c8a51acd5adf279c0199f7bb8",
        "_cell_guid": "e9344ff5-1962-c0d7-f4bf-d4e59115eef3",
        "collapsed": true,
        "trusted": false
      },
      "cell_type": "code",
      "source": "from sklearn.ensemble import BaggingClassifier\nfrom sklearn import svm\nsvc = svm.SVC(kernel='linear', C=1.0)\n\n#Set a RANDOM_STATE to use for Bagging and cross validation\nRANDOM_STATE=123454321\n\nclassifier = BaggingClassifier(base_estimator = svc, n_estimators = 10, random_state=RANDOM_STATE)\n",
      "execution_count": 59,
      "outputs": []
    },
    {
      "metadata": {
        "_uuid": "3604fa65ef4556003e5644b85a70ca71fdc2fe37",
        "_cell_guid": "fc02c8e1-866d-41a2-8c7e-cb918a2ad668"
      },
      "cell_type": "markdown",
      "source": "**10-fold Cross-validation by explicitly calling the StratifiedKFold method to control the random_state param.**"
    },
    {
      "metadata": {
        "_uuid": "33119f76bdb5dc1ac7651b2b6ce37bae9cf4e29b",
        "_cell_guid": "9d820b95-7ef4-48b4-8c1d-0cf2d1c6909f",
        "trusted": false,
        "collapsed": true
      },
      "cell_type": "code",
      "source": "from sklearn.model_selection import cross_val_score, StratifiedKFold\n\ncv=StratifiedKFold(n_splits=10, random_state=RANDOM_STATE)\nscores = cross_val_score(classifier, cpm, class_labels, cv=cv)",
      "execution_count": 60,
      "outputs": []
    },
    {
      "metadata": {
        "_uuid": "b054aa31ad199d60b75adabcf4194a49627073bf",
        "_cell_guid": "3ca38921-4d35-b9c3-8d5c-b999d97600aa"
      },
      "cell_type": "markdown",
      "source": "The score is the mean of all scores in the array."
    },
    {
      "metadata": {
        "_uuid": "a439cde17e04016ec5c32595156c0de38c7f8a08",
        "_cell_guid": "1998ddca-5326-1efc-bfab-1f4ba4ae1026",
        "trusted": false,
        "collapsed": true
      },
      "cell_type": "code",
      "source": "print(\"10-Cross validated Prediction Accuracy: {}%\".format(scores.mean()*100))",
      "execution_count": 61,
      "outputs": []
    }
  ],
  "metadata": {
    "_is_fork": false,
    "kernelspec": {
      "display_name": "Python 3",
      "language": "python",
      "name": "python3"
    },
    "_change_revision": 0,
    "language_info": {
      "name": "python",
      "version": "3.6.1",
      "mimetype": "text/x-python",
      "codemirror_mode": {
        "name": "ipython",
        "version": 3
      },
      "pygments_lexer": "ipython3",
      "nbconvert_exporter": "python",
      "file_extension": ".py"
    }
  },
  "nbformat": 4,
  "nbformat_minor": 1
}