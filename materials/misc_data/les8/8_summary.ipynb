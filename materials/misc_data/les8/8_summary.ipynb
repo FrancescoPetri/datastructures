{
 "cells": [
  {
   "cell_type": "markdown",
   "metadata": {},
   "source": [
    "# Numpy"
   ]
  },
  {
   "cell_type": "code",
   "execution_count": null,
   "metadata": {
    "collapsed": true
   },
   "outputs": [],
   "source": [
    "\"\"\"\n",
    "Look at the reference, specifically in the array creation routines,\n",
    "\n",
    "#np.1 Create a null vector of size 10\n",
    "#np.2 Create a 3x3 matrix with values ranging from 0 to 8\n",
    "#np.3 Create a random vector of size 30 and find the mean value\n",
    "#np.4 Normalize a 5x5 random matrix\n",
    "    ## (X - Xmin)/(Xmax - Xmin)\n",
    "#np.5 Create a 5x5 matrix with row values ranging from 0 to 4 (use broadcasting!)\n",
    "#np.6 Looking at the docs: if a= np.array([1,2]) and b= np.array([3,4]), why do np.dot(a,b) is equal to np.dot(b,a)?\n",
    "#np.7 Following np.6, if aq= np.array([[1,2],[2,4]]) and bq= np.array([[9,12],[12,16]]), why do np.dot(aq,bq) is different from np.dot(bq,aq)?\n",
    "\n",
    "\"\"\""
   ]
  },
  {
   "cell_type": "markdown",
   "metadata": {},
   "source": [
    "# List comprehensions"
   ]
  },
  {
   "cell_type": "code",
   "execution_count": null,
   "metadata": {
    "collapsed": true
   },
   "outputs": [],
   "source": [
    "\"\"\"\n",
    "#lc.1 Using a list comprehension, count how many elements in the file ../les4/4_results.tsv have an APSI > 94 (940)\n",
    "#lc.2 Retrieve all the (not empty) lines in ire_out.txt that are above #OtherMatches then, using a list comprehension:\n",
    "    ## select all the fourth fields, and plot the resulting array as an histogram, it shall have a peak around the value of 3\n",
    "#lc.3 Solve the following zebra puzzle:\n",
    "    ## 3 houses in a row \n",
    "    \n",
    "    ## The house with the console Ps4 is next to the orange house\n",
    "    ## The brown house is inhabited by someone who lives far from the Italian guy\n",
    "    ## The console XboxOne is not used by the Russian\n",
    "    ## Who owns the console Switch lives in a purple house\n",
    "    WHERE DOES THE ALIEN LIVE? (first, second or third house?)\n",
    "\"\"\""
   ]
  },
  {
   "cell_type": "code",
   "execution_count": null,
   "metadata": {
    "collapsed": true
   },
   "outputs": [],
   "source": []
  },
  {
   "cell_type": "markdown",
   "metadata": {},
   "source": [
    "# Pandas"
   ]
  },
  {
   "cell_type": "code",
   "execution_count": null,
   "metadata": {
    "collapsed": true
   },
   "outputs": [],
   "source": [
    "\"\"\"\n",
    "#pd.1 Try to build a basic SVM classifier from the IRIS dataset (see sklearn.datasets) to distinguish Iris Setosa from other species\n",
    "#pd.2 Get the 4_results.tsv file again: how many observations(rows) are there for each method?\n",
    "#pd.3 Plot the SCI column, with the APSI as independent variable, for the method mafftx and k=3\n",
    "#pd.4 create a new column called SPI which is the product of SPS and SCI\n",
    "#pd.5 create a function that, given a Series, computes the zscore z=(X - mean)/std and returns the mean of those z\n",
    "#pd.6 use the column created in pd.4 and send to the function created in pd.5 the following Series:\n",
    "    ## SPI values < 0.25\n",
    "    ## SPI values >= 0.25 and <0.50\n",
    "    ## SPI values >= 0.50\n",
    "    Each of these will return a single value (the mean z-score): add them and report the final sum. (Don't do anything manually)\n",
    "#pd.7 group the df by k, and print the mean SPS value, regardless of the method\n",
    "\"\"\""
   ]
  },
  {
   "cell_type": "code",
   "execution_count": null,
   "metadata": {
    "collapsed": true
   },
   "outputs": [],
   "source": []
  },
  {
   "cell_type": "code",
   "execution_count": null,
   "metadata": {
    "collapsed": true
   },
   "outputs": [],
   "source": []
  }
 ],
 "metadata": {
  "kernelspec": {
   "display_name": "Python 3",
   "language": "python",
   "name": "python3"
  },
  "language_info": {
   "codemirror_mode": {
    "name": "ipython",
    "version": 3
   },
   "file_extension": ".py",
   "mimetype": "text/x-python",
   "name": "python",
   "nbconvert_exporter": "python",
   "pygments_lexer": "ipython3",
   "version": "3.6.1"
  }
 },
 "nbformat": 4,
 "nbformat_minor": 2
}
