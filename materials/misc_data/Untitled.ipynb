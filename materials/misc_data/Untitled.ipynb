{
 "cells": [
  {
   "cell_type": "code",
   "execution_count": 8,
   "metadata": {
    "collapsed": true
   },
   "outputs": [],
   "source": [
    "results={'background':0.7333, 'IRES_HCV':0.9126, 'IRE': 0.9921}\n"
   ]
  },
  {
   "cell_type": "code",
   "execution_count": 15,
   "metadata": {},
   "outputs": [
    {
     "name": "stdout",
     "output_type": "stream",
     "text": [
      "\n",
      "background\t0.73\n",
      "\n",
      "IRES_HCV\t0.91\n",
      "\n",
      "IRE\t0.99\n"
     ]
    }
   ],
   "source": [
    "for data in results:\n",
    "    print(\"\\n{}\\t{:.2f}\".format(data, results[data]))"
   ]
  },
  {
   "cell_type": "code",
   "execution_count": 16,
   "metadata": {},
   "outputs": [
    {
     "ename": "NameError",
     "evalue": "name 'babu' is not defined",
     "output_type": "error",
     "traceback": [
      "\u001b[0;31m---------------------------------------------------------------------------\u001b[0m",
      "\u001b[0;31mNameError\u001b[0m                                 Traceback (most recent call last)",
      "\u001b[0;32m<ipython-input-16-0d706f29d592>\u001b[0m in \u001b[0;36m<module>\u001b[0;34m()\u001b[0m\n\u001b[0;32m----> 1\u001b[0;31m \u001b[0mbabu\u001b[0m\u001b[0;34m(\u001b[0m\u001b[0;34m)\u001b[0m\u001b[0;34m\u001b[0m\u001b[0m\n\u001b[0m",
      "\u001b[0;31mNameError\u001b[0m: name 'babu' is not defined"
     ]
    }
   ],
   "source": [
    "babu()"
   ]
  },
  {
   "cell_type": "code",
   "execution_count": 17,
   "metadata": {
    "collapsed": true
   },
   "outputs": [],
   "source": [
    "import scipy.stats"
   ]
  },
  {
   "cell_type": "code",
   "execution_count": 21,
   "metadata": {
    "collapsed": true
   },
   "outputs": [],
   "source": [
    "from scipy import stats"
   ]
  },
  {
   "cell_type": "code",
   "execution_count": 19,
   "metadata": {},
   "outputs": [
    {
     "ename": "TypeError",
     "evalue": "kstest() missing 2 required positional arguments: 'rvs' and 'cdf'",
     "output_type": "error",
     "traceback": [
      "\u001b[0;31m---------------------------------------------------------------------------\u001b[0m",
      "\u001b[0;31mTypeError\u001b[0m                                 Traceback (most recent call last)",
      "\u001b[0;32m<ipython-input-19-e61938d38197>\u001b[0m in \u001b[0;36m<module>\u001b[0;34m()\u001b[0m\n\u001b[0;32m----> 1\u001b[0;31m \u001b[0mscipy\u001b[0m\u001b[0;34m.\u001b[0m\u001b[0mstats\u001b[0m\u001b[0;34m.\u001b[0m\u001b[0mkstest\u001b[0m\u001b[0;34m(\u001b[0m\u001b[0;34m)\u001b[0m\u001b[0;34m\u001b[0m\u001b[0m\n\u001b[0m",
      "\u001b[0;31mTypeError\u001b[0m: kstest() missing 2 required positional arguments: 'rvs' and 'cdf'"
     ]
    }
   ],
   "source": [
    "scipy.stats.kstest()"
   ]
  },
  {
   "cell_type": "code",
   "execution_count": 31,
   "metadata": {},
   "outputs": [
    {
     "data": {
      "text/plain": [
       "KstestResult(statistic=0.064074971100835931, pvalue=0.00051749887337249056)"
      ]
     },
     "execution_count": 31,
     "metadata": {},
     "output_type": "execute_result"
    }
   ],
   "source": [
    "stats.kstest(stats.t.rvs(3,size=1000),'norm')"
   ]
  },
  {
   "cell_type": "code",
   "execution_count": 24,
   "metadata": {},
   "outputs": [
    {
     "data": {
      "text/plain": [
       "array([  0.4209777 ,   4.59950991,   6.7763197 ,   2.98667996,\n",
       "        -0.3873146 ,   7.57995132,   6.43842176,   3.66844194,\n",
       "         0.72193076,  -0.26406058,   3.3499786 ,   1.40110553,\n",
       "         9.44963426,   6.26061105,   5.40230925,  -1.75074283,\n",
       "        -2.72700114,   2.55327665,   7.59024631,   1.1857984 ,\n",
       "         7.34965332,   3.35242555,   5.80150689,   0.09548894,\n",
       "         3.32506687,   3.12975906,  -2.29587998,  -1.63157185,\n",
       "         0.98439756,  12.20678005,   6.36726851,   2.55995265,\n",
       "         3.6731253 ,   8.47316213,   1.88779161,   7.10216339,\n",
       "         6.57690777,   9.93258461,  -1.42845798,  -5.77134696,\n",
       "         0.96861056,   6.76917902,   1.45429871,   2.85237823,\n",
       "         8.99460744,  10.5107148 ,   5.03388819,   4.72508523,\n",
       "         4.18571817,   0.8198601 ,   1.01880438,   4.83384282,\n",
       "         3.55933367,   6.08392561,  -4.26780087,   0.64660789,\n",
       "         2.41566721,  -1.23668143,   6.3778902 ,  -3.7020431 ,\n",
       "         6.64081363,   2.94371315,  -2.11892216,   1.1590317 ,\n",
       "         3.62980029,   7.90841461,   5.86423158,   6.21005655,\n",
       "         0.49118683,   5.66874608,   4.20593938,   2.2716494 ,\n",
       "        -8.25875871,   5.37255417,   0.91270524,  -0.39113679,\n",
       "        -3.02143265,   2.82252253,   7.9932185 ,   3.0329881 ,\n",
       "        -3.98664663,  -2.15508133,   5.01255971,   2.61786739,\n",
       "         5.88696739,   1.81163959,  -5.52860698,  -1.60759802,\n",
       "         2.46451309,   5.79441343,  -1.61197656,  -1.39905421,\n",
       "         8.71913189,   5.60395898,   6.17413771,   6.12785537,\n",
       "        -1.97594825,   0.78618466,   3.81984173,   4.64348228])"
      ]
     },
     "execution_count": 24,
     "metadata": {},
     "output_type": "execute_result"
    }
   ],
   "source": [
    "stats.norm.rvs(3, 4,size=100)"
   ]
  },
  {
   "cell_type": "code",
   "execution_count": 32,
   "metadata": {
    "collapsed": true
   },
   "outputs": [],
   "source": [
    "import numpy as np\n",
    "\n",
    "np.random.seed(seed=233233)\n",
    "myData=[stats.t.rvs(3,size=1000), stats.norm.rvs(3,1, size=1000)]"
   ]
  },
  {
   "cell_type": "code",
   "execution_count": 35,
   "metadata": {},
   "outputs": [
    {
     "name": "stdout",
     "output_type": "stream",
     "text": [
      "KstestResult(statistic=0.059971626089991313, pvalue=0.0014383979689356341)\n",
      "KstestResult(statistic=0.86876809745220351, pvalue=0.0)\n"
     ]
    }
   ],
   "source": [
    "for d in myData:\n",
    "    print(stats.kstest(d,'norm'))"
   ]
  },
  {
   "cell_type": "code",
   "execution_count": 40,
   "metadata": {},
   "outputs": [],
   "source": [
    "from collections import defaultdict"
   ]
  },
  {
   "cell_type": "code",
   "execution_count": 46,
   "metadata": {},
   "outputs": [],
   "source": [
    "d = defaultdict(str)"
   ]
  },
  {
   "cell_type": "code",
   "execution_count": null,
   "metadata": {
    "collapsed": true
   },
   "outputs": [],
   "source": []
  }
 ],
 "metadata": {
  "kernelspec": {
   "display_name": "Python 3",
   "language": "python",
   "name": "python3"
  },
  "language_info": {
   "codemirror_mode": {
    "name": "ipython",
    "version": 3
   },
   "file_extension": ".py",
   "mimetype": "text/x-python",
   "name": "python",
   "nbconvert_exporter": "python",
   "pygments_lexer": "ipython3",
   "version": "3.6.1"
  }
 },
 "nbformat": 4,
 "nbformat_minor": 2
}
