{
 "cells": [
  {
   "cell_type": "code",
   "execution_count": 12,
   "metadata": {
    "collapsed": false
   },
   "outputs": [
    {
     "data": {
      "text/plain": [
       "['ATCGATACGAGTACTCATGCATCGCGGGGCTCCGAGATCCGAATCTAGCTCCGAAGCTCCGAATCGATAATAACAGAATAGACAAGATAGCCTCGTTCGATCGCGCTAGACAGACCACAGTGATCGCGG',\n",
       " 'ATCGATACGAGTACTCATGCATCGCGGGGCTCCGAGACCCGAATCAAGCTCCGAAGCTCCGAATCGATAACAACAGAATAGACAAGATAGCCTCGTCCGATCGCGCTAGACAGACCACAGTGATCGCGG']"
      ]
     },
     "execution_count": 12,
     "metadata": {},
     "output_type": "execute_result"
    }
   ],
   "source": [
    "seqs=[]\n",
    "with open(\"2_anomalies.txt\") as f:\n",
    "    for line in f:\n",
    "        seqs.append(line.strip())\n",
    "\n",
    "print(seqs)"
   ]
  },
  {
   "cell_type": "code",
   "execution_count": 20,
   "metadata": {
    "collapsed": false
   },
   "outputs": [
    {
     "name": "stdout",
     "output_type": "stream",
     "text": [
      "37 ('T', 'C') is mutated\n",
      "45 ('T', 'A') is mutated\n",
      "70 ('T', 'C') is mutated\n",
      "96 ('T', 'C') is mutated\n"
     ]
    }
   ],
   "source": [
    "for i, zipped in enumerate(zip(seqs[0],seqs[1])):\n",
    "    if zipped[0] != zipped[1]:\n",
    "        print(i, zipped, 'is mutated')"
   ]
  },
  {
   "cell_type": "code",
   "execution_count": null,
   "metadata": {
    "collapsed": true
   },
   "outputs": [],
   "source": []
  }
 ],
 "metadata": {
  "kernelspec": {
   "display_name": "Python 3",
   "language": "python",
   "name": "python3"
  },
  "language_info": {
   "codemirror_mode": {
    "name": "ipython",
    "version": 3
   },
   "file_extension": ".py",
   "mimetype": "text/x-python",
   "name": "python",
   "nbconvert_exporter": "python",
   "pygments_lexer": "ipython3",
   "version": "3.6.0"
  }
 },
 "nbformat": 4,
 "nbformat_minor": 2
}
