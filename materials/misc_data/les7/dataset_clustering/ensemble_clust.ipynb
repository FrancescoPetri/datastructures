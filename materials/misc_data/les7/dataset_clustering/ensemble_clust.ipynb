{
 "cells": [
  {
   "cell_type": "markdown",
   "metadata": {
    "_cell_guid": "d04fa07f-e6b8-4b44-b504-eb967e3f746c",
    "_uuid": "4bcb107b020bf9accadb7546f1ab2270f6d98407"
   },
   "source": [
    "Unsupervised machine learning is what more resembles the concept of Artificial Intelligence: the idea that a computer can learn to identify complex processes and patterns without a human to provide guidance along the way. So while a supervised algorithm will learn how to best fit its model to the ascribed labels, an unsupervised one will try to understand the underlying structure of data, by bringing together similar behaviours in sub-spaces of features and the labels are self assigned.\n",
    "\n",
    "The use case for this chapter will be a dataset published on Proteogenomics connects somatic mutations to signalling in breast cancer, by Mertins and colleagues. In between other analyses of primary breast tumors' expression data they show how the PAM50 panel of genes is not exactly the best set of cancer marker to stratify tumor-types, but nonetheless behaves well.\n",
    "\n",
    "### Didactic example taken from (and slightly adapted) http://www.nature.com/nature/journal/v534/n7605/full/nature18003.html"
   ]
  },
  {
   "cell_type": "code",
   "execution_count": 1,
   "metadata": {
    "_cell_guid": "3b0de3d6-3a0f-4731-9f1d-e3670c34f994",
    "_uuid": "c384cc0f8db01df26d337daf523d43c15c429af3",
    "collapsed": true
   },
   "outputs": [],
   "source": [
    "import pandas as pd\n",
    "import seaborn as sns"
   ]
  },
  {
   "cell_type": "code",
   "execution_count": 2,
   "metadata": {
    "_cell_guid": "c9f0bc93-0f43-42db-9771-44ae2a7a1b05",
    "_uuid": "e9fb91e38fbb2088f0b8d03cd7783853e369dd7c",
    "collapsed": true
   },
   "outputs": [],
   "source": [
    "### Set path to the data set\n",
    "dataset_path = \"77_cancer_proteomes_CPTAC_itraq.csv\"\n",
    "clinical_info = \"clinical_data_breast_cancer.csv\"\n",
    "pam50_proteins = \"PAM50_proteins.csv\""
   ]
  },
  {
   "cell_type": "code",
   "execution_count": 3,
   "metadata": {
    "_cell_guid": "a1eea72d-9b48-4a6f-b5d4-9a5ae924ca11",
    "_uuid": "316851933dc8a41fb58995704c1432b08e30f303",
    "collapsed": true
   },
   "outputs": [],
   "source": [
    "## Load data\n",
    "data = pd.read_csv(dataset_path,header=0,index_col=0)\n",
    "clinical = pd.read_csv(clinical_info,header=0,index_col=0)## holds clinical information about each patient/sample\n",
    "pam50 = pd.read_csv(pam50_proteins,header=0)"
   ]
  },
  {
   "cell_type": "code",
   "execution_count": 4,
   "metadata": {
    "_cell_guid": "1e7b268b-3059-40eb-a5c2-4af299daf395",
    "_uuid": "04e8a50154e0b1b5262113d9be3bfc9a0d4d6af6"
   },
   "outputs": [
    {
     "name": "stdout",
     "output_type": "stream",
     "text": [
      "data\n",
      "                         gene_symbol           gene_name  AO-A12D.01TCGA  \\\n",
      "RefSeq_accession_number                                                   \n",
      "NP_958782                      PLEC   plectin isoform 1        1.096131   \n",
      "NP_958785                       NaN  plectin isoform 1g        1.111370   \n",
      "NP_958786                      PLEC  plectin isoform 1a        1.111370   \n",
      "NP_000436                       NaN  plectin isoform 1c        1.107561   \n",
      "NP_958781                       NaN  plectin isoform 1e        1.115180   \n",
      "\n",
      "                         C8-A131.01TCGA  AO-A12B.01TCGA  BH-A18Q.02TCGA  \\\n",
      "RefSeq_accession_number                                                   \n",
      "NP_958782                      2.609943       -0.659828        0.195341   \n",
      "NP_958785                      2.650422       -0.648742        0.215413   \n",
      "NP_958786                      2.650422       -0.654285        0.215413   \n",
      "NP_000436                      2.646374       -0.632113        0.205377   \n",
      "NP_958781                      2.646374       -0.640428        0.215413   \n",
      "\n",
      "                         C8-A130.02TCGA  C8-A138.03TCGA  E2-A154.03TCGA  \\\n",
      "RefSeq_accession_number                                                   \n",
      "NP_958782                     -0.494060        2.765081        0.862659   \n",
      "NP_958785                     -0.503899        2.779709        0.870186   \n",
      "NP_958786                     -0.500619        2.779709        0.870186   \n",
      "NP_000436                     -0.510459        2.797995        0.866423   \n",
      "NP_958781                     -0.503899        2.787023        0.870186   \n",
      "\n",
      "                         C8-A12L.04TCGA       ...        AO-A12B.34TCGA  \\\n",
      "RefSeq_accession_number                       ...                         \n",
      "NP_958782                      1.407570       ...             -0.963904   \n",
      "NP_958785                      1.407570       ...             -0.938210   \n",
      "NP_958786                      1.410312       ...             -0.943919   \n",
      "NP_000436                      1.407570       ...             -0.935355   \n",
      "NP_958781                      1.413053       ...             -0.935355   \n",
      "\n",
      "                         A2-A0SW.35TCGA  AO-A0JL.35TCGA  BH-A0BV.35TCGA  \\\n",
      "RefSeq_accession_number                                                   \n",
      "NP_958782                     -0.487772        -0.10668       -0.065838   \n",
      "NP_958785                     -0.487772        -0.10668       -0.055893   \n",
      "NP_958786                     -0.487772        -0.10668       -0.065838   \n",
      "NP_000436                     -0.487772        -0.10668       -0.055893   \n",
      "NP_958781                     -0.503853        -0.10668       -0.062523   \n",
      "\n",
      "                         A2-A0YM.36TCGA  BH-A0C7.36TCGA  A2-A0SX.36TCGA  \\\n",
      "RefSeq_accession_number                                                   \n",
      "NP_958782                      0.655850       -0.552212       -0.398560   \n",
      "NP_958785                      0.658143       -0.547749       -0.392601   \n",
      "NP_958786                      0.655850       -0.552212       -0.392601   \n",
      "NP_000436                      0.655850       -0.552212       -0.392601   \n",
      "NP_958781                      0.651264       -0.556675       -0.395581   \n",
      "\n",
      "                         263d3f-I.CPTAC  blcdb9-I.CPTAC  c4155b-C.CPTAC  \n",
      "RefSeq_accession_number                                                  \n",
      "NP_958782                      0.598585       -0.191285        0.566975  \n",
      "NP_958785                      0.606697       -0.183918        0.578702  \n",
      "NP_958786                      0.603993       -0.186022        0.576747  \n",
      "NP_000436                      0.603993       -0.186022        0.576747  \n",
      "NP_958781                      0.603993       -0.167079        0.576747  \n",
      "\n",
      "[5 rows x 85 columns]\n"
     ]
    }
   ],
   "source": [
    "print('data\\n', data.head())\n"
   ]
  },
  {
   "cell_type": "code",
   "execution_count": 5,
   "metadata": {
    "_cell_guid": "dd8108b3-b176-4ff5-a678-46635b3876da",
    "_uuid": "b3849ca3d1571cb2848c1500f986448e297fbc12"
   },
   "outputs": [
    {
     "name": "stdout",
     "output_type": "stream",
     "text": [
      "clinical\n",
      "                   Gender  Age at Initial Pathologic Diagnosis ER Status  \\\n",
      "Complete TCGA ID                                                          \n",
      "TCGA-A2-A0T2      FEMALE                                   66  Negative   \n",
      "TCGA-A2-A0CM      FEMALE                                   40  Negative   \n",
      "TCGA-BH-A18V      FEMALE                                   48  Negative   \n",
      "TCGA-BH-A18Q      FEMALE                                   56  Negative   \n",
      "TCGA-BH-A0E0      FEMALE                                   38  Negative   \n",
      "\n",
      "                 PR Status HER2 Final Status Tumor Tumor--T1 Coded Node  \\\n",
      "Complete TCGA ID                                                          \n",
      "TCGA-A2-A0T2      Negative          Negative    T3         T_Other   N3   \n",
      "TCGA-A2-A0CM      Negative          Negative    T2         T_Other   N0   \n",
      "TCGA-BH-A18V      Negative          Negative    T2         T_Other   N1   \n",
      "TCGA-BH-A18Q      Negative          Negative    T2         T_Other   N1   \n",
      "TCGA-BH-A0E0      Negative          Negative    T3         T_Other   N3   \n",
      "\n",
      "                 Node-Coded Metastasis               ...                \\\n",
      "Complete TCGA ID                                     ...                 \n",
      "TCGA-A2-A0T2       Positive         M1               ...                 \n",
      "TCGA-A2-A0CM       Negative         M0               ...                 \n",
      "TCGA-BH-A18V       Positive         M0               ...                 \n",
      "TCGA-BH-A18Q       Positive         M0               ...                 \n",
      "TCGA-BH-A0E0       Positive         M0               ...                 \n",
      "\n",
      "                  PAM50 mRNA SigClust Unsupervised mRNA  \\\n",
      "Complete TCGA ID                                          \n",
      "TCGA-A2-A0T2      Basal-like                          0   \n",
      "TCGA-A2-A0CM      Basal-like                        -12   \n",
      "TCGA-BH-A18V      Basal-like                        -12   \n",
      "TCGA-BH-A18Q      Basal-like                        -12   \n",
      "TCGA-BH-A0E0      Basal-like                          0   \n",
      "\n",
      "                 SigClust Intrinsic mRNA miRNA Clusters methylation Clusters  \\\n",
      "Complete TCGA ID                                                               \n",
      "TCGA-A2-A0T2                         -13              3                    5   \n",
      "TCGA-A2-A0CM                         -13              4                    4   \n",
      "TCGA-BH-A18V                         -13              5                    5   \n",
      "TCGA-BH-A18Q                         -13              5                    5   \n",
      "TCGA-BH-A0E0                         -13              5                    5   \n",
      "\n",
      "                  RPPA Clusters  CN Clusters  \\\n",
      "Complete TCGA ID                               \n",
      "TCGA-A2-A0T2              Basal            3   \n",
      "TCGA-A2-A0CM              Basal            4   \n",
      "TCGA-BH-A18V              Basal            1   \n",
      "TCGA-BH-A18Q              Basal            1   \n",
      "TCGA-BH-A0E0              Basal            1   \n",
      "\n",
      "                  Integrated Clusters (with PAM50)  \\\n",
      "Complete TCGA ID                                     \n",
      "TCGA-A2-A0T2                                     2   \n",
      "TCGA-A2-A0CM                                     2   \n",
      "TCGA-BH-A18V                                     2   \n",
      "TCGA-BH-A18Q                                     2   \n",
      "TCGA-BH-A0E0                                     2   \n",
      "\n",
      "                  Integrated Clusters (no exp) Integrated Clusters (unsup exp)  \n",
      "Complete TCGA ID                                                                \n",
      "TCGA-A2-A0T2                                 2                               2  \n",
      "TCGA-A2-A0CM                                 1                               1  \n",
      "TCGA-BH-A18V                                 2                               2  \n",
      "TCGA-BH-A18Q                                 2                               2  \n",
      "TCGA-BH-A0E0                                 2                               2  \n",
      "\n",
      "[5 rows x 29 columns]\n"
     ]
    }
   ],
   "source": [
    "print('clinical\\n', clinical.head())"
   ]
  },
  {
   "cell_type": "code",
   "execution_count": 6,
   "metadata": {
    "_cell_guid": "db143a81-da3c-4b35-b952-fbe0e76c0064",
    "_uuid": "a2d20c0a9ab8e50e030ef541561c74c7b2af0dcf"
   },
   "outputs": [
    {
     "name": "stdout",
     "output_type": "stream",
     "text": [
      "pam50\n",
      "   GeneSymbol RefSeqProteinID       Species  \\\n",
      "0        MIA       NP_006524  Homo sapiens   \n",
      "1      FGFR4       NP_002002  Homo sapiens   \n",
      "2      FGFR4       NP_998812  Homo sapiens   \n",
      "3      FGFR4       NP_075252  Homo sapiens   \n",
      "4     GPR160       NP_055188  Homo sapiens   \n",
      "\n",
      "                             Gene Name  \n",
      "0         melanoma inhibitory activity  \n",
      "1  fibroblast growth factor receptor 4  \n",
      "2  fibroblast growth factor receptor 4  \n",
      "3  fibroblast growth factor receptor 4  \n",
      "4       G protein-coupled receptor 160  \n"
     ]
    }
   ],
   "source": [
    "#see that the names from data are different than those from clinical\n",
    "print('pam50\\n', pam50.head())\n"
   ]
  },
  {
   "cell_type": "code",
   "execution_count": 7,
   "metadata": {
    "_cell_guid": "3f4ffb6e-d4f1-4ac3-beb0-41cdd5b5a0b1",
    "_uuid": "59eee239405fb634f4ea2657ee10be0a9b12bdcf"
   },
   "outputs": [
    {
     "name": "stdout",
     "output_type": "stream",
     "text": [
      "genes 50\n",
      "proteins 100\n"
     ]
    }
   ],
   "source": [
    "print('genes', len(pam50.GeneSymbol.unique()))\n",
    "print('proteins', len(pam50.RefSeqProteinID.unique()))\n"
   ]
  },
  {
   "cell_type": "code",
   "execution_count": 8,
   "metadata": {
    "_cell_guid": "4aabbd84-f661-4ccd-b98c-c9cba1934596",
    "_uuid": "580996105b0a3dec143e4a154517502d0ad13b7d",
    "collapsed": true
   },
   "outputs": [],
   "source": [
    "## Drop unused information columns\n",
    "data.drop(['gene_symbol','gene_name'],axis=1,inplace=True)"
   ]
  },
  {
   "cell_type": "code",
   "execution_count": 9,
   "metadata": {
    "_cell_guid": "5ad36866-8585-4e07-a4f0-2c1773c95716",
    "_uuid": "3880188d7fec0c900f4bf8797d5e4818c7ca6f28",
    "collapsed": true
   },
   "outputs": [],
   "source": [
    "## Change the protein data sample names to a format matching the clinical data set\n",
    "import re\n",
    "\n",
    "data.rename(columns=lambda x: \"TCGA-%s\" % (re.split('[_|-|.]',x)[0]) if bool(re.search(\"TCGA\",x)) is True else x,inplace=True)"
   ]
  },
  {
   "cell_type": "code",
   "execution_count": 10,
   "metadata": {
    "_cell_guid": "02be7680-cab8-4526-a6c3-7c77ba8b6ca5",
    "_uuid": "b385787fc5df0c8c36f7ddd7a5b4fd5e01740057"
   },
   "outputs": [
    {
     "data": {
      "text/html": [
       "<div>\n",
       "<style>\n",
       "    .dataframe thead tr:only-child th {\n",
       "        text-align: right;\n",
       "    }\n",
       "\n",
       "    .dataframe thead th {\n",
       "        text-align: left;\n",
       "    }\n",
       "\n",
       "    .dataframe tbody tr th {\n",
       "        vertical-align: top;\n",
       "    }\n",
       "</style>\n",
       "<table border=\"1\" class=\"dataframe\">\n",
       "  <thead>\n",
       "    <tr style=\"text-align: right;\">\n",
       "      <th></th>\n",
       "      <th>TCGA-AO-A12D</th>\n",
       "      <th>TCGA-C8-A131</th>\n",
       "      <th>TCGA-AO-A12B</th>\n",
       "      <th>TCGA-BH-A18Q</th>\n",
       "      <th>TCGA-C8-A130</th>\n",
       "      <th>TCGA-C8-A138</th>\n",
       "      <th>TCGA-E2-A154</th>\n",
       "      <th>TCGA-C8-A12L</th>\n",
       "      <th>TCGA-A2-A0EX</th>\n",
       "      <th>TCGA-AO-A12D</th>\n",
       "      <th>...</th>\n",
       "      <th>TCGA-AO-A12B</th>\n",
       "      <th>TCGA-A2-A0SW</th>\n",
       "      <th>TCGA-AO-A0JL</th>\n",
       "      <th>TCGA-BH-A0BV</th>\n",
       "      <th>TCGA-A2-A0YM</th>\n",
       "      <th>TCGA-BH-A0C7</th>\n",
       "      <th>TCGA-A2-A0SX</th>\n",
       "      <th>263d3f-I.CPTAC</th>\n",
       "      <th>blcdb9-I.CPTAC</th>\n",
       "      <th>c4155b-C.CPTAC</th>\n",
       "    </tr>\n",
       "    <tr>\n",
       "      <th>RefSeq_accession_number</th>\n",
       "      <th></th>\n",
       "      <th></th>\n",
       "      <th></th>\n",
       "      <th></th>\n",
       "      <th></th>\n",
       "      <th></th>\n",
       "      <th></th>\n",
       "      <th></th>\n",
       "      <th></th>\n",
       "      <th></th>\n",
       "      <th></th>\n",
       "      <th></th>\n",
       "      <th></th>\n",
       "      <th></th>\n",
       "      <th></th>\n",
       "      <th></th>\n",
       "      <th></th>\n",
       "      <th></th>\n",
       "      <th></th>\n",
       "      <th></th>\n",
       "      <th></th>\n",
       "    </tr>\n",
       "  </thead>\n",
       "  <tbody>\n",
       "    <tr>\n",
       "      <th>NP_958782</th>\n",
       "      <td>1.096131</td>\n",
       "      <td>2.609943</td>\n",
       "      <td>-0.659828</td>\n",
       "      <td>0.195341</td>\n",
       "      <td>-0.494060</td>\n",
       "      <td>2.765081</td>\n",
       "      <td>0.862659</td>\n",
       "      <td>1.407570</td>\n",
       "      <td>1.185108</td>\n",
       "      <td>1.100688</td>\n",
       "      <td>...</td>\n",
       "      <td>-0.963904</td>\n",
       "      <td>-0.487772</td>\n",
       "      <td>-0.10668</td>\n",
       "      <td>-0.065838</td>\n",
       "      <td>0.655850</td>\n",
       "      <td>-0.552212</td>\n",
       "      <td>-0.398560</td>\n",
       "      <td>0.598585</td>\n",
       "      <td>-0.191285</td>\n",
       "      <td>0.566975</td>\n",
       "    </tr>\n",
       "    <tr>\n",
       "      <th>NP_958785</th>\n",
       "      <td>1.111370</td>\n",
       "      <td>2.650422</td>\n",
       "      <td>-0.648742</td>\n",
       "      <td>0.215413</td>\n",
       "      <td>-0.503899</td>\n",
       "      <td>2.779709</td>\n",
       "      <td>0.870186</td>\n",
       "      <td>1.407570</td>\n",
       "      <td>1.192612</td>\n",
       "      <td>1.100688</td>\n",
       "      <td>...</td>\n",
       "      <td>-0.938210</td>\n",
       "      <td>-0.487772</td>\n",
       "      <td>-0.10668</td>\n",
       "      <td>-0.055893</td>\n",
       "      <td>0.658143</td>\n",
       "      <td>-0.547749</td>\n",
       "      <td>-0.392601</td>\n",
       "      <td>0.606697</td>\n",
       "      <td>-0.183918</td>\n",
       "      <td>0.578702</td>\n",
       "    </tr>\n",
       "    <tr>\n",
       "      <th>NP_958786</th>\n",
       "      <td>1.111370</td>\n",
       "      <td>2.650422</td>\n",
       "      <td>-0.654285</td>\n",
       "      <td>0.215413</td>\n",
       "      <td>-0.500619</td>\n",
       "      <td>2.779709</td>\n",
       "      <td>0.870186</td>\n",
       "      <td>1.410312</td>\n",
       "      <td>1.188860</td>\n",
       "      <td>1.100688</td>\n",
       "      <td>...</td>\n",
       "      <td>-0.943919</td>\n",
       "      <td>-0.487772</td>\n",
       "      <td>-0.10668</td>\n",
       "      <td>-0.065838</td>\n",
       "      <td>0.655850</td>\n",
       "      <td>-0.552212</td>\n",
       "      <td>-0.392601</td>\n",
       "      <td>0.603993</td>\n",
       "      <td>-0.186022</td>\n",
       "      <td>0.576747</td>\n",
       "    </tr>\n",
       "    <tr>\n",
       "      <th>NP_000436</th>\n",
       "      <td>1.107561</td>\n",
       "      <td>2.646374</td>\n",
       "      <td>-0.632113</td>\n",
       "      <td>0.205377</td>\n",
       "      <td>-0.510459</td>\n",
       "      <td>2.797995</td>\n",
       "      <td>0.866423</td>\n",
       "      <td>1.407570</td>\n",
       "      <td>1.185108</td>\n",
       "      <td>1.100688</td>\n",
       "      <td>...</td>\n",
       "      <td>-0.935355</td>\n",
       "      <td>-0.487772</td>\n",
       "      <td>-0.10668</td>\n",
       "      <td>-0.055893</td>\n",
       "      <td>0.655850</td>\n",
       "      <td>-0.552212</td>\n",
       "      <td>-0.392601</td>\n",
       "      <td>0.603993</td>\n",
       "      <td>-0.186022</td>\n",
       "      <td>0.576747</td>\n",
       "    </tr>\n",
       "    <tr>\n",
       "      <th>NP_958781</th>\n",
       "      <td>1.115180</td>\n",
       "      <td>2.646374</td>\n",
       "      <td>-0.640428</td>\n",
       "      <td>0.215413</td>\n",
       "      <td>-0.503899</td>\n",
       "      <td>2.787023</td>\n",
       "      <td>0.870186</td>\n",
       "      <td>1.413053</td>\n",
       "      <td>1.200116</td>\n",
       "      <td>1.093358</td>\n",
       "      <td>...</td>\n",
       "      <td>-0.935355</td>\n",
       "      <td>-0.503853</td>\n",
       "      <td>-0.10668</td>\n",
       "      <td>-0.062523</td>\n",
       "      <td>0.651264</td>\n",
       "      <td>-0.556675</td>\n",
       "      <td>-0.395581</td>\n",
       "      <td>0.603993</td>\n",
       "      <td>-0.167079</td>\n",
       "      <td>0.576747</td>\n",
       "    </tr>\n",
       "  </tbody>\n",
       "</table>\n",
       "<p>5 rows × 83 columns</p>\n",
       "</div>"
      ],
      "text/plain": [
       "                         TCGA-AO-A12D  TCGA-C8-A131  TCGA-AO-A12B  \\\n",
       "RefSeq_accession_number                                             \n",
       "NP_958782                    1.096131      2.609943     -0.659828   \n",
       "NP_958785                    1.111370      2.650422     -0.648742   \n",
       "NP_958786                    1.111370      2.650422     -0.654285   \n",
       "NP_000436                    1.107561      2.646374     -0.632113   \n",
       "NP_958781                    1.115180      2.646374     -0.640428   \n",
       "\n",
       "                         TCGA-BH-A18Q  TCGA-C8-A130  TCGA-C8-A138  \\\n",
       "RefSeq_accession_number                                             \n",
       "NP_958782                    0.195341     -0.494060      2.765081   \n",
       "NP_958785                    0.215413     -0.503899      2.779709   \n",
       "NP_958786                    0.215413     -0.500619      2.779709   \n",
       "NP_000436                    0.205377     -0.510459      2.797995   \n",
       "NP_958781                    0.215413     -0.503899      2.787023   \n",
       "\n",
       "                         TCGA-E2-A154  TCGA-C8-A12L  TCGA-A2-A0EX  \\\n",
       "RefSeq_accession_number                                             \n",
       "NP_958782                    0.862659      1.407570      1.185108   \n",
       "NP_958785                    0.870186      1.407570      1.192612   \n",
       "NP_958786                    0.870186      1.410312      1.188860   \n",
       "NP_000436                    0.866423      1.407570      1.185108   \n",
       "NP_958781                    0.870186      1.413053      1.200116   \n",
       "\n",
       "                         TCGA-AO-A12D       ...        TCGA-AO-A12B  \\\n",
       "RefSeq_accession_number                     ...                       \n",
       "NP_958782                    1.100688       ...           -0.963904   \n",
       "NP_958785                    1.100688       ...           -0.938210   \n",
       "NP_958786                    1.100688       ...           -0.943919   \n",
       "NP_000436                    1.100688       ...           -0.935355   \n",
       "NP_958781                    1.093358       ...           -0.935355   \n",
       "\n",
       "                         TCGA-A2-A0SW  TCGA-AO-A0JL  TCGA-BH-A0BV  \\\n",
       "RefSeq_accession_number                                             \n",
       "NP_958782                   -0.487772      -0.10668     -0.065838   \n",
       "NP_958785                   -0.487772      -0.10668     -0.055893   \n",
       "NP_958786                   -0.487772      -0.10668     -0.065838   \n",
       "NP_000436                   -0.487772      -0.10668     -0.055893   \n",
       "NP_958781                   -0.503853      -0.10668     -0.062523   \n",
       "\n",
       "                         TCGA-A2-A0YM  TCGA-BH-A0C7  TCGA-A2-A0SX  \\\n",
       "RefSeq_accession_number                                             \n",
       "NP_958782                    0.655850     -0.552212     -0.398560   \n",
       "NP_958785                    0.658143     -0.547749     -0.392601   \n",
       "NP_958786                    0.655850     -0.552212     -0.392601   \n",
       "NP_000436                    0.655850     -0.552212     -0.392601   \n",
       "NP_958781                    0.651264     -0.556675     -0.395581   \n",
       "\n",
       "                         263d3f-I.CPTAC  blcdb9-I.CPTAC  c4155b-C.CPTAC  \n",
       "RefSeq_accession_number                                                  \n",
       "NP_958782                      0.598585       -0.191285        0.566975  \n",
       "NP_958785                      0.606697       -0.183918        0.578702  \n",
       "NP_958786                      0.603993       -0.186022        0.576747  \n",
       "NP_000436                      0.603993       -0.186022        0.576747  \n",
       "NP_958781                      0.603993       -0.167079        0.576747  \n",
       "\n",
       "[5 rows x 83 columns]"
      ]
     },
     "execution_count": 10,
     "metadata": {},
     "output_type": "execute_result"
    }
   ],
   "source": [
    "#Check if names are ok\n",
    "data.head()"
   ]
  },
  {
   "cell_type": "code",
   "execution_count": 11,
   "metadata": {
    "_cell_guid": "40dc9c84-5681-4d82-8ae2-7688ef3944c6",
    "_uuid": "a72206ab49bc1f5061c62946db11c0ccd15256e5",
    "collapsed": true
   },
   "outputs": [],
   "source": [
    "## Transpose data for the clustering algorithm since we want to divide patient samples, not proteins\n",
    "data = data.T"
   ]
  },
  {
   "cell_type": "code",
   "execution_count": 12,
   "metadata": {
    "_cell_guid": "5b67365f-0e81-41c7-b0fb-907ce112deea",
    "_uuid": "33d7aceaa4903eed08c2e990d631f3366dbc3e06"
   },
   "outputs": [
    {
     "name": "stdout",
     "output_type": "stream",
     "text": [
      "83\n",
      "105\n"
     ]
    }
   ],
   "source": [
    "#do samples match?\n",
    "print(len(data.index))\n",
    "print(len(clinical.index))"
   ]
  },
  {
   "cell_type": "code",
   "execution_count": 13,
   "metadata": {
    "_cell_guid": "8d176a54-246e-4c94-9062-757247521905",
    "_uuid": "b7e7b17c5379a8c9abe3ead50ab187a1b8a94d51"
   },
   "outputs": [
    {
     "data": {
      "text/plain": [
       "'\\nleft_index : boolean, default False\\nUse the index from the left DataFrame as the join key(s). If it is a MultiIndex, the number of keys in the other DataFrame (either the index or a number of columns) must match the number of levels\\nright_index : boolean, default False\\nUse the index from the right DataFrame as the join key. Same caveats as left_index\\n'"
      ]
     },
     "execution_count": 13,
     "metadata": {},
     "output_type": "execute_result"
    }
   ],
   "source": [
    "## Add clinical meta data to our protein data set, note: all numerical features for analysis start with NP_ or XP_\n",
    "merged = data.merge(clinical,left_index=True,right_index=True)\n",
    "\"\"\"\n",
    "left_index : boolean, default False\n",
    "Use the index from the left DataFrame as the join key(s). If it is a MultiIndex, the number of keys in the other DataFrame (either the index or a number of columns) must match the number of levels\n",
    "right_index : boolean, default False\n",
    "Use the index from the right DataFrame as the join key. Same caveats as left_index\n",
    "\"\"\""
   ]
  },
  {
   "cell_type": "code",
   "execution_count": 14,
   "metadata": {
    "_cell_guid": "d8ce4518-217a-493a-b6eb-3867378c3159",
    "_uuid": "808c49375fe776e1e904edeaca730880f7f43e50"
   },
   "outputs": [
    {
     "data": {
      "text/plain": [
       "80"
      ]
     },
     "execution_count": 14,
     "metadata": {},
     "output_type": "execute_result"
    }
   ],
   "source": [
    "len(merged.index)"
   ]
  },
  {
   "cell_type": "code",
   "execution_count": 15,
   "metadata": {
    "_cell_guid": "3dc4c301-4802-4c0c-8c83-c382a54ed1b6",
    "_uuid": "3bae5f09e950d01062a5f082a92eccd1b510d07e"
   },
   "outputs": [
    {
     "data": {
      "text/plain": [
       "Index(['NP_958782', 'NP_958785', 'NP_958786', 'NP_000436', 'NP_958781',\n",
       "       'NP_958780', 'NP_958783', 'NP_958784', 'NP_112598', 'NP_001611',\n",
       "       ...\n",
       "       'PAM50 mRNA', 'SigClust Unsupervised mRNA', 'SigClust Intrinsic mRNA',\n",
       "       'miRNA Clusters', 'methylation Clusters', 'RPPA Clusters',\n",
       "       'CN Clusters', 'Integrated Clusters (with PAM50)',\n",
       "       'Integrated Clusters (no exp)', 'Integrated Clusters (unsup exp)'],\n",
       "      dtype='object', length=12582)"
      ]
     },
     "execution_count": 15,
     "metadata": {},
     "output_type": "execute_result"
    }
   ],
   "source": [
    "## Change name to make it look nicer in the code!\n",
    "processed = merged\n",
    "\n",
    "#some columns contains other information, like pre-made clusters, we will use them as reference\n",
    "processed.columns"
   ]
  },
  {
   "cell_type": "code",
   "execution_count": 16,
   "metadata": {
    "_cell_guid": "3b6430f6-8c3b-4405-bce7-ce042bc27916",
    "_uuid": "c849be71ad02b7a1183c0f4c9fe2171091b93f12",
    "collapsed": true
   },
   "outputs": [],
   "source": [
    "## Numerical data for the algorithm, NP_xx/XP_xx are protein identifiers from RefSeq database\n",
    "##in this case it corresponds to all the columns\n",
    "numerical_cols = [x for x in processed.columns if bool(re.search(\"NP_|XP_\", x)) == True ]\n",
    "#label indexing\n",
    "processed_numerical = processed.loc[:, numerical_cols]"
   ]
  },
  {
   "cell_type": "code",
   "execution_count": 17,
   "metadata": {
    "_cell_guid": "d358cf0f-4741-4b7c-842f-964b5df74195",
    "_uuid": "8c37e9cc3ba6e623672f240fab018449efb39560",
    "collapsed": true
   },
   "outputs": [],
   "source": [
    "bool_pam_50 = processed_numerical.columns.isin(pam50['RefSeqProteinID'])\n",
    "#boolean indexing\n",
    "processed_numerical_p50 = processed_numerical.iloc[:, bool_pam_50]"
   ]
  },
  {
   "cell_type": "code",
   "execution_count": 18,
   "metadata": {
    "_cell_guid": "cbe996e4-88f8-4d17-90ac-047df9e19fd2",
    "_uuid": "18b8987cdaf97a20f24f501193da2bd3cb9bbe30"
   },
   "outputs": [
    {
     "data": {
      "text/plain": [
       "NP_057427        0\n",
       "NP_002408        0\n",
       "NP_000415        0\n",
       "NP_000413        0\n",
       "NP_000517        0\n",
       "NP_004439        0\n",
       "NP_005219        0\n",
       "NP_058519        0\n",
       "NP_058518        0\n",
       "NP_001116539     0\n",
       "NP_061155        0\n",
       "NP_001035932     0\n",
       "NP_077006        0\n",
       "NP_000917        0\n",
       "NP_065178        0\n",
       "NP_006836        0\n",
       "NP_006614        0\n",
       "NP_001784        3\n",
       "NP_006092        2\n",
       "NP_001153651     0\n",
       "NP_001159403     0\n",
       "NP_000116        0\n",
       "NP_004314        0\n",
       "NP_060601        2\n",
       "NP_005931        0\n",
       "NP_003003        0\n",
       "NP_113611        5\n",
       "NP_002002       11\n",
       "NP_004487        0\n",
       "NP_008950        0\n",
       "NP_114172        6\n",
       "NP_001062        5\n",
       "NP_001444       41\n",
       "NP_057547        6\n",
       "NP_054895        0\n",
       "NP_001246        9\n",
       "NP_055606       35\n",
       "NP_036451       18\n",
       "NP_000624       20\n",
       "NP_569082       56\n",
       "NP_001159       15\n",
       "NP_001229       47\n",
       "NP_002458       58\n",
       "dtype: int64"
      ]
     },
     "execution_count": 18,
     "metadata": {},
     "output_type": "execute_result"
    }
   ],
   "source": [
    "#are there missing values?\n",
    "processed_numerical_p50.isnull().sum()"
   ]
  },
  {
   "cell_type": "code",
   "execution_count": 19,
   "metadata": {
    "_cell_guid": "53a9bba3-1c22-47eb-bc57-cd9b2f42f78f",
    "_uuid": "df865dd22f90be1909598d2f9baaf4736335ccea"
   },
   "outputs": [
    {
     "data": {
      "text/html": [
       "<div>\n",
       "<style>\n",
       "    .dataframe thead tr:only-child th {\n",
       "        text-align: right;\n",
       "    }\n",
       "\n",
       "    .dataframe thead th {\n",
       "        text-align: left;\n",
       "    }\n",
       "\n",
       "    .dataframe tbody tr th {\n",
       "        vertical-align: top;\n",
       "    }\n",
       "</style>\n",
       "<table border=\"1\" class=\"dataframe\">\n",
       "  <thead>\n",
       "    <tr style=\"text-align: right;\">\n",
       "      <th></th>\n",
       "      <th>NP_057427</th>\n",
       "      <th>NP_002408</th>\n",
       "      <th>NP_000415</th>\n",
       "      <th>NP_000413</th>\n",
       "      <th>NP_000517</th>\n",
       "      <th>NP_004439</th>\n",
       "      <th>NP_005219</th>\n",
       "      <th>NP_058519</th>\n",
       "      <th>NP_058518</th>\n",
       "      <th>NP_001116539</th>\n",
       "      <th>...</th>\n",
       "      <th>NP_057547</th>\n",
       "      <th>NP_054895</th>\n",
       "      <th>NP_001246</th>\n",
       "      <th>NP_055606</th>\n",
       "      <th>NP_036451</th>\n",
       "      <th>NP_000624</th>\n",
       "      <th>NP_569082</th>\n",
       "      <th>NP_001159</th>\n",
       "      <th>NP_001229</th>\n",
       "      <th>NP_002458</th>\n",
       "    </tr>\n",
       "  </thead>\n",
       "  <tbody>\n",
       "    <tr>\n",
       "      <th>TCGA-A2-A0CM</th>\n",
       "      <td>2.160157</td>\n",
       "      <td>2.623021</td>\n",
       "      <td>4.768355</td>\n",
       "      <td>0.639321</td>\n",
       "      <td>4.933663</td>\n",
       "      <td>-4.419112</td>\n",
       "      <td>-0.271711</td>\n",
       "      <td>-6.013418</td>\n",
       "      <td>-6.013418</td>\n",
       "      <td>-6.318320</td>\n",
       "      <td>...</td>\n",
       "      <td>-1.292949</td>\n",
       "      <td>3.541400</td>\n",
       "      <td>3.177722</td>\n",
       "      <td>NaN</td>\n",
       "      <td>-1.792547</td>\n",
       "      <td>NaN</td>\n",
       "      <td>NaN</td>\n",
       "      <td>2.516489</td>\n",
       "      <td>2.556897</td>\n",
       "      <td>NaN</td>\n",
       "    </tr>\n",
       "    <tr>\n",
       "      <th>TCGA-A2-A0D2</th>\n",
       "      <td>2.249702</td>\n",
       "      <td>3.576941</td>\n",
       "      <td>2.169868</td>\n",
       "      <td>2.968207</td>\n",
       "      <td>0.543251</td>\n",
       "      <td>-5.421010</td>\n",
       "      <td>-1.206443</td>\n",
       "      <td>-5.297932</td>\n",
       "      <td>-5.277974</td>\n",
       "      <td>-5.311238</td>\n",
       "      <td>...</td>\n",
       "      <td>-3.694601</td>\n",
       "      <td>2.495856</td>\n",
       "      <td>2.722053</td>\n",
       "      <td>0.373604</td>\n",
       "      <td>-1.342826</td>\n",
       "      <td>-4.183584</td>\n",
       "      <td>-2.889608</td>\n",
       "      <td>3.487128</td>\n",
       "      <td>NaN</td>\n",
       "      <td>-0.714133</td>\n",
       "    </tr>\n",
       "    <tr>\n",
       "      <th>TCGA-A2-A0EQ</th>\n",
       "      <td>-0.020957</td>\n",
       "      <td>1.884936</td>\n",
       "      <td>-7.407249</td>\n",
       "      <td>-7.675146</td>\n",
       "      <td>-5.187535</td>\n",
       "      <td>-2.795601</td>\n",
       "      <td>7.158672</td>\n",
       "      <td>-9.114133</td>\n",
       "      <td>-8.762041</td>\n",
       "      <td>-9.573385</td>\n",
       "      <td>...</td>\n",
       "      <td>-1.410193</td>\n",
       "      <td>0.702364</td>\n",
       "      <td>-1.402538</td>\n",
       "      <td>NaN</td>\n",
       "      <td>NaN</td>\n",
       "      <td>1.934688</td>\n",
       "      <td>NaN</td>\n",
       "      <td>0.798041</td>\n",
       "      <td>2.003576</td>\n",
       "      <td>NaN</td>\n",
       "    </tr>\n",
       "    <tr>\n",
       "      <th>TCGA-A2-A0EV</th>\n",
       "      <td>-1.364604</td>\n",
       "      <td>-2.246793</td>\n",
       "      <td>-3.750716</td>\n",
       "      <td>-3.882344</td>\n",
       "      <td>-2.252395</td>\n",
       "      <td>-3.252209</td>\n",
       "      <td>-1.574649</td>\n",
       "      <td>-2.190781</td>\n",
       "      <td>-2.871327</td>\n",
       "      <td>-2.190781</td>\n",
       "      <td>...</td>\n",
       "      <td>0.018893</td>\n",
       "      <td>-1.574649</td>\n",
       "      <td>-4.515280</td>\n",
       "      <td>NaN</td>\n",
       "      <td>NaN</td>\n",
       "      <td>2.049328</td>\n",
       "      <td>NaN</td>\n",
       "      <td>-0.266769</td>\n",
       "      <td>-3.201798</td>\n",
       "      <td>-7.724769</td>\n",
       "    </tr>\n",
       "    <tr>\n",
       "      <th>TCGA-A2-A0EX</th>\n",
       "      <td>-2.506723</td>\n",
       "      <td>-2.953194</td>\n",
       "      <td>-0.803378</td>\n",
       "      <td>-2.315378</td>\n",
       "      <td>-0.098028</td>\n",
       "      <td>-1.643795</td>\n",
       "      <td>-1.212331</td>\n",
       "      <td>4.186597</td>\n",
       "      <td>3.976493</td>\n",
       "      <td>3.942726</td>\n",
       "      <td>...</td>\n",
       "      <td>-0.822137</td>\n",
       "      <td>-2.938187</td>\n",
       "      <td>-3.395914</td>\n",
       "      <td>-1.827636</td>\n",
       "      <td>0.082061</td>\n",
       "      <td>0.044543</td>\n",
       "      <td>-2.079011</td>\n",
       "      <td>-3.046991</td>\n",
       "      <td>2.554537</td>\n",
       "      <td>-0.443199</td>\n",
       "    </tr>\n",
       "    <tr>\n",
       "      <th>TCGA-A2-A0EY</th>\n",
       "      <td>-1.015330</td>\n",
       "      <td>-0.840446</td>\n",
       "      <td>-3.059805</td>\n",
       "      <td>-3.638587</td>\n",
       "      <td>-2.547645</td>\n",
       "      <td>5.800973</td>\n",
       "      <td>-3.571964</td>\n",
       "      <td>-6.465874</td>\n",
       "      <td>-6.361777</td>\n",
       "      <td>-6.557480</td>\n",
       "      <td>...</td>\n",
       "      <td>-0.303303</td>\n",
       "      <td>-1.327622</td>\n",
       "      <td>-0.615596</td>\n",
       "      <td>0.204692</td>\n",
       "      <td>NaN</td>\n",
       "      <td>NaN</td>\n",
       "      <td>-0.490679</td>\n",
       "      <td>-1.169394</td>\n",
       "      <td>NaN</td>\n",
       "      <td>NaN</td>\n",
       "    </tr>\n",
       "    <tr>\n",
       "      <th>TCGA-A2-A0SW</th>\n",
       "      <td>0.293752</td>\n",
       "      <td>0.039676</td>\n",
       "      <td>-5.945578</td>\n",
       "      <td>-3.610654</td>\n",
       "      <td>-1.899662</td>\n",
       "      <td>-4.308558</td>\n",
       "      <td>-3.372659</td>\n",
       "      <td>-2.099063</td>\n",
       "      <td>-1.976850</td>\n",
       "      <td>-1.565183</td>\n",
       "      <td>...</td>\n",
       "      <td>-0.371991</td>\n",
       "      <td>0.419182</td>\n",
       "      <td>-0.774010</td>\n",
       "      <td>NaN</td>\n",
       "      <td>-0.510286</td>\n",
       "      <td>-0.317317</td>\n",
       "      <td>NaN</td>\n",
       "      <td>0.313049</td>\n",
       "      <td>NaN</td>\n",
       "      <td>NaN</td>\n",
       "    </tr>\n",
       "    <tr>\n",
       "      <th>TCGA-A2-A0SX</th>\n",
       "      <td>1.457488</td>\n",
       "      <td>1.385987</td>\n",
       "      <td>5.625404</td>\n",
       "      <td>3.271828</td>\n",
       "      <td>2.166540</td>\n",
       "      <td>-4.891209</td>\n",
       "      <td>-1.774955</td>\n",
       "      <td>-4.414536</td>\n",
       "      <td>-4.414536</td>\n",
       "      <td>-3.776985</td>\n",
       "      <td>...</td>\n",
       "      <td>NaN</td>\n",
       "      <td>-2.063939</td>\n",
       "      <td>0.313471</td>\n",
       "      <td>NaN</td>\n",
       "      <td>NaN</td>\n",
       "      <td>-1.337011</td>\n",
       "      <td>NaN</td>\n",
       "      <td>0.393910</td>\n",
       "      <td>NaN</td>\n",
       "      <td>NaN</td>\n",
       "    </tr>\n",
       "    <tr>\n",
       "      <th>TCGA-A2-A0T3</th>\n",
       "      <td>1.059592</td>\n",
       "      <td>-0.451477</td>\n",
       "      <td>-0.355684</td>\n",
       "      <td>0.305602</td>\n",
       "      <td>0.123285</td>\n",
       "      <td>-3.937134</td>\n",
       "      <td>-3.102801</td>\n",
       "      <td>2.165855</td>\n",
       "      <td>1.597273</td>\n",
       "      <td>1.897015</td>\n",
       "      <td>...</td>\n",
       "      <td>1.516930</td>\n",
       "      <td>0.592984</td>\n",
       "      <td>0.738219</td>\n",
       "      <td>-0.510190</td>\n",
       "      <td>-1.480488</td>\n",
       "      <td>-0.847013</td>\n",
       "      <td>NaN</td>\n",
       "      <td>1.921736</td>\n",
       "      <td>NaN</td>\n",
       "      <td>NaN</td>\n",
       "    </tr>\n",
       "    <tr>\n",
       "      <th>TCGA-A2-A0T6</th>\n",
       "      <td>-2.885329</td>\n",
       "      <td>-3.435150</td>\n",
       "      <td>-2.781589</td>\n",
       "      <td>-3.189632</td>\n",
       "      <td>-2.297470</td>\n",
       "      <td>-4.804515</td>\n",
       "      <td>-2.553362</td>\n",
       "      <td>-0.720625</td>\n",
       "      <td>-0.772495</td>\n",
       "      <td>-0.616886</td>\n",
       "      <td>...</td>\n",
       "      <td>0.939211</td>\n",
       "      <td>-2.141861</td>\n",
       "      <td>-3.549264</td>\n",
       "      <td>NaN</td>\n",
       "      <td>-1.460636</td>\n",
       "      <td>-0.813991</td>\n",
       "      <td>NaN</td>\n",
       "      <td>NaN</td>\n",
       "      <td>-1.187454</td>\n",
       "      <td>-7.000341</td>\n",
       "    </tr>\n",
       "    <tr>\n",
       "      <th>TCGA-A2-A0YC</th>\n",
       "      <td>-0.270496</td>\n",
       "      <td>-1.509796</td>\n",
       "      <td>-1.722924</td>\n",
       "      <td>-1.371657</td>\n",
       "      <td>-1.324295</td>\n",
       "      <td>-2.587276</td>\n",
       "      <td>-3.854203</td>\n",
       "      <td>4.663020</td>\n",
       "      <td>4.663020</td>\n",
       "      <td>4.686701</td>\n",
       "      <td>...</td>\n",
       "      <td>3.005359</td>\n",
       "      <td>-1.517689</td>\n",
       "      <td>-1.288774</td>\n",
       "      <td>NaN</td>\n",
       "      <td>1.406899</td>\n",
       "      <td>1.777900</td>\n",
       "      <td>NaN</td>\n",
       "      <td>-2.879340</td>\n",
       "      <td>0.467558</td>\n",
       "      <td>NaN</td>\n",
       "    </tr>\n",
       "    <tr>\n",
       "      <th>TCGA-A2-A0YD</th>\n",
       "      <td>-1.632842</td>\n",
       "      <td>-2.897917</td>\n",
       "      <td>-0.831824</td>\n",
       "      <td>-0.740195</td>\n",
       "      <td>0.119938</td>\n",
       "      <td>-4.431969</td>\n",
       "      <td>-3.698935</td>\n",
       "      <td>-2.336318</td>\n",
       "      <td>-2.776730</td>\n",
       "      <td>-2.584604</td>\n",
       "      <td>...</td>\n",
       "      <td>-1.094889</td>\n",
       "      <td>0.004663</td>\n",
       "      <td>1.228357</td>\n",
       "      <td>-0.905719</td>\n",
       "      <td>-2.702835</td>\n",
       "      <td>0.072646</td>\n",
       "      <td>NaN</td>\n",
       "      <td>0.190877</td>\n",
       "      <td>NaN</td>\n",
       "      <td>NaN</td>\n",
       "    </tr>\n",
       "    <tr>\n",
       "      <th>TCGA-A2-A0YF</th>\n",
       "      <td>-1.399735</td>\n",
       "      <td>-1.513301</td>\n",
       "      <td>-1.183961</td>\n",
       "      <td>-1.346738</td>\n",
       "      <td>-0.498782</td>\n",
       "      <td>-2.421825</td>\n",
       "      <td>-1.903209</td>\n",
       "      <td>-1.077966</td>\n",
       "      <td>-0.971972</td>\n",
       "      <td>-1.077966</td>\n",
       "      <td>...</td>\n",
       "      <td>2.143510</td>\n",
       "      <td>-1.149891</td>\n",
       "      <td>-1.271028</td>\n",
       "      <td>-0.881119</td>\n",
       "      <td>3.017965</td>\n",
       "      <td>2.253290</td>\n",
       "      <td>NaN</td>\n",
       "      <td>-2.626243</td>\n",
       "      <td>NaN</td>\n",
       "      <td>NaN</td>\n",
       "    </tr>\n",
       "    <tr>\n",
       "      <th>TCGA-A2-A0YG</th>\n",
       "      <td>0.090860</td>\n",
       "      <td>1.294577</td>\n",
       "      <td>-2.806853</td>\n",
       "      <td>-5.051989</td>\n",
       "      <td>-3.202457</td>\n",
       "      <td>5.767942</td>\n",
       "      <td>-0.247263</td>\n",
       "      <td>-3.303894</td>\n",
       "      <td>-3.303894</td>\n",
       "      <td>-3.527055</td>\n",
       "      <td>...</td>\n",
       "      <td>-1.508461</td>\n",
       "      <td>2.643687</td>\n",
       "      <td>0.229490</td>\n",
       "      <td>-1.275157</td>\n",
       "      <td>-0.997896</td>\n",
       "      <td>-2.495780</td>\n",
       "      <td>NaN</td>\n",
       "      <td>NaN</td>\n",
       "      <td>1.673275</td>\n",
       "      <td>NaN</td>\n",
       "    </tr>\n",
       "    <tr>\n",
       "      <th>TCGA-A2-A0YM</th>\n",
       "      <td>0.000077</td>\n",
       "      <td>-1.320640</td>\n",
       "      <td>0.291277</td>\n",
       "      <td>-0.534171</td>\n",
       "      <td>-0.781806</td>\n",
       "      <td>-3.322351</td>\n",
       "      <td>-0.373667</td>\n",
       "      <td>-3.060959</td>\n",
       "      <td>-3.060959</td>\n",
       "      <td>-2.939435</td>\n",
       "      <td>...</td>\n",
       "      <td>NaN</td>\n",
       "      <td>-2.194239</td>\n",
       "      <td>1.621165</td>\n",
       "      <td>NaN</td>\n",
       "      <td>NaN</td>\n",
       "      <td>-1.001925</td>\n",
       "      <td>NaN</td>\n",
       "      <td>-0.414940</td>\n",
       "      <td>NaN</td>\n",
       "      <td>NaN</td>\n",
       "    </tr>\n",
       "    <tr>\n",
       "      <th>TCGA-A7-A0CE</th>\n",
       "      <td>1.761673</td>\n",
       "      <td>-0.583448</td>\n",
       "      <td>5.542903</td>\n",
       "      <td>6.038440</td>\n",
       "      <td>2.080457</td>\n",
       "      <td>-3.099008</td>\n",
       "      <td>-1.009547</td>\n",
       "      <td>-3.717640</td>\n",
       "      <td>-3.556670</td>\n",
       "      <td>-3.556670</td>\n",
       "      <td>...</td>\n",
       "      <td>-3.329417</td>\n",
       "      <td>1.922643</td>\n",
       "      <td>2.935811</td>\n",
       "      <td>NaN</td>\n",
       "      <td>-2.253124</td>\n",
       "      <td>-3.430418</td>\n",
       "      <td>NaN</td>\n",
       "      <td>0.997851</td>\n",
       "      <td>1.209322</td>\n",
       "      <td>NaN</td>\n",
       "    </tr>\n",
       "    <tr>\n",
       "      <th>TCGA-A7-A0CJ</th>\n",
       "      <td>-0.683522</td>\n",
       "      <td>-2.461391</td>\n",
       "      <td>-3.644384</td>\n",
       "      <td>-3.286106</td>\n",
       "      <td>-2.667570</td>\n",
       "      <td>-4.918636</td>\n",
       "      <td>-5.023415</td>\n",
       "      <td>-0.791681</td>\n",
       "      <td>-0.649722</td>\n",
       "      <td>-0.676762</td>\n",
       "      <td>...</td>\n",
       "      <td>1.699363</td>\n",
       "      <td>1.148427</td>\n",
       "      <td>-1.602876</td>\n",
       "      <td>-1.176999</td>\n",
       "      <td>0.834089</td>\n",
       "      <td>3.463713</td>\n",
       "      <td>NaN</td>\n",
       "      <td>0.398072</td>\n",
       "      <td>NaN</td>\n",
       "      <td>-1.981434</td>\n",
       "    </tr>\n",
       "    <tr>\n",
       "      <th>TCGA-A7-A13F</th>\n",
       "      <td>0.736809</td>\n",
       "      <td>0.371208</td>\n",
       "      <td>-1.336271</td>\n",
       "      <td>-2.308530</td>\n",
       "      <td>-0.641227</td>\n",
       "      <td>-2.300495</td>\n",
       "      <td>-2.336653</td>\n",
       "      <td>-2.513427</td>\n",
       "      <td>-2.513427</td>\n",
       "      <td>-2.537533</td>\n",
       "      <td>...</td>\n",
       "      <td>2.850065</td>\n",
       "      <td>0.407366</td>\n",
       "      <td>0.704668</td>\n",
       "      <td>0.572088</td>\n",
       "      <td>2.323760</td>\n",
       "      <td>-0.938529</td>\n",
       "      <td>NaN</td>\n",
       "      <td>0.310944</td>\n",
       "      <td>NaN</td>\n",
       "      <td>NaN</td>\n",
       "    </tr>\n",
       "    <tr>\n",
       "      <th>TCGA-A8-A06N</th>\n",
       "      <td>-0.358817</td>\n",
       "      <td>0.269542</td>\n",
       "      <td>-3.695040</td>\n",
       "      <td>-3.438625</td>\n",
       "      <td>-3.427354</td>\n",
       "      <td>-1.209779</td>\n",
       "      <td>-3.385087</td>\n",
       "      <td>-2.331246</td>\n",
       "      <td>-2.243896</td>\n",
       "      <td>-2.331246</td>\n",
       "      <td>...</td>\n",
       "      <td>1.870028</td>\n",
       "      <td>-1.945214</td>\n",
       "      <td>NaN</td>\n",
       "      <td>NaN</td>\n",
       "      <td>0.934533</td>\n",
       "      <td>0.669664</td>\n",
       "      <td>NaN</td>\n",
       "      <td>-0.232018</td>\n",
       "      <td>-0.389812</td>\n",
       "      <td>NaN</td>\n",
       "    </tr>\n",
       "    <tr>\n",
       "      <th>TCGA-A8-A06Z</th>\n",
       "      <td>0.717278</td>\n",
       "      <td>-0.059650</td>\n",
       "      <td>-1.185145</td>\n",
       "      <td>-1.605106</td>\n",
       "      <td>-0.926869</td>\n",
       "      <td>-1.672300</td>\n",
       "      <td>0.215425</td>\n",
       "      <td>3.650705</td>\n",
       "      <td>3.346234</td>\n",
       "      <td>3.432326</td>\n",
       "      <td>...</td>\n",
       "      <td>1.790278</td>\n",
       "      <td>0.584990</td>\n",
       "      <td>-0.607699</td>\n",
       "      <td>NaN</td>\n",
       "      <td>1.981361</td>\n",
       "      <td>NaN</td>\n",
       "      <td>NaN</td>\n",
       "      <td>-0.061749</td>\n",
       "      <td>0.679482</td>\n",
       "      <td>NaN</td>\n",
       "    </tr>\n",
       "  </tbody>\n",
       "</table>\n",
       "<p>20 rows × 43 columns</p>\n",
       "</div>"
      ],
      "text/plain": [
       "              NP_057427  NP_002408  NP_000415  NP_000413  NP_000517  \\\n",
       "TCGA-A2-A0CM   2.160157   2.623021   4.768355   0.639321   4.933663   \n",
       "TCGA-A2-A0D2   2.249702   3.576941   2.169868   2.968207   0.543251   \n",
       "TCGA-A2-A0EQ  -0.020957   1.884936  -7.407249  -7.675146  -5.187535   \n",
       "TCGA-A2-A0EV  -1.364604  -2.246793  -3.750716  -3.882344  -2.252395   \n",
       "TCGA-A2-A0EX  -2.506723  -2.953194  -0.803378  -2.315378  -0.098028   \n",
       "TCGA-A2-A0EY  -1.015330  -0.840446  -3.059805  -3.638587  -2.547645   \n",
       "TCGA-A2-A0SW   0.293752   0.039676  -5.945578  -3.610654  -1.899662   \n",
       "TCGA-A2-A0SX   1.457488   1.385987   5.625404   3.271828   2.166540   \n",
       "TCGA-A2-A0T3   1.059592  -0.451477  -0.355684   0.305602   0.123285   \n",
       "TCGA-A2-A0T6  -2.885329  -3.435150  -2.781589  -3.189632  -2.297470   \n",
       "TCGA-A2-A0YC  -0.270496  -1.509796  -1.722924  -1.371657  -1.324295   \n",
       "TCGA-A2-A0YD  -1.632842  -2.897917  -0.831824  -0.740195   0.119938   \n",
       "TCGA-A2-A0YF  -1.399735  -1.513301  -1.183961  -1.346738  -0.498782   \n",
       "TCGA-A2-A0YG   0.090860   1.294577  -2.806853  -5.051989  -3.202457   \n",
       "TCGA-A2-A0YM   0.000077  -1.320640   0.291277  -0.534171  -0.781806   \n",
       "TCGA-A7-A0CE   1.761673  -0.583448   5.542903   6.038440   2.080457   \n",
       "TCGA-A7-A0CJ  -0.683522  -2.461391  -3.644384  -3.286106  -2.667570   \n",
       "TCGA-A7-A13F   0.736809   0.371208  -1.336271  -2.308530  -0.641227   \n",
       "TCGA-A8-A06N  -0.358817   0.269542  -3.695040  -3.438625  -3.427354   \n",
       "TCGA-A8-A06Z   0.717278  -0.059650  -1.185145  -1.605106  -0.926869   \n",
       "\n",
       "              NP_004439  NP_005219  NP_058519  NP_058518  NP_001116539  \\\n",
       "TCGA-A2-A0CM  -4.419112  -0.271711  -6.013418  -6.013418     -6.318320   \n",
       "TCGA-A2-A0D2  -5.421010  -1.206443  -5.297932  -5.277974     -5.311238   \n",
       "TCGA-A2-A0EQ  -2.795601   7.158672  -9.114133  -8.762041     -9.573385   \n",
       "TCGA-A2-A0EV  -3.252209  -1.574649  -2.190781  -2.871327     -2.190781   \n",
       "TCGA-A2-A0EX  -1.643795  -1.212331   4.186597   3.976493      3.942726   \n",
       "TCGA-A2-A0EY   5.800973  -3.571964  -6.465874  -6.361777     -6.557480   \n",
       "TCGA-A2-A0SW  -4.308558  -3.372659  -2.099063  -1.976850     -1.565183   \n",
       "TCGA-A2-A0SX  -4.891209  -1.774955  -4.414536  -4.414536     -3.776985   \n",
       "TCGA-A2-A0T3  -3.937134  -3.102801   2.165855   1.597273      1.897015   \n",
       "TCGA-A2-A0T6  -4.804515  -2.553362  -0.720625  -0.772495     -0.616886   \n",
       "TCGA-A2-A0YC  -2.587276  -3.854203   4.663020   4.663020      4.686701   \n",
       "TCGA-A2-A0YD  -4.431969  -3.698935  -2.336318  -2.776730     -2.584604   \n",
       "TCGA-A2-A0YF  -2.421825  -1.903209  -1.077966  -0.971972     -1.077966   \n",
       "TCGA-A2-A0YG   5.767942  -0.247263  -3.303894  -3.303894     -3.527055   \n",
       "TCGA-A2-A0YM  -3.322351  -0.373667  -3.060959  -3.060959     -2.939435   \n",
       "TCGA-A7-A0CE  -3.099008  -1.009547  -3.717640  -3.556670     -3.556670   \n",
       "TCGA-A7-A0CJ  -4.918636  -5.023415  -0.791681  -0.649722     -0.676762   \n",
       "TCGA-A7-A13F  -2.300495  -2.336653  -2.513427  -2.513427     -2.537533   \n",
       "TCGA-A8-A06N  -1.209779  -3.385087  -2.331246  -2.243896     -2.331246   \n",
       "TCGA-A8-A06Z  -1.672300   0.215425   3.650705   3.346234      3.432326   \n",
       "\n",
       "                ...      NP_057547  NP_054895  NP_001246  NP_055606  \\\n",
       "TCGA-A2-A0CM    ...      -1.292949   3.541400   3.177722        NaN   \n",
       "TCGA-A2-A0D2    ...      -3.694601   2.495856   2.722053   0.373604   \n",
       "TCGA-A2-A0EQ    ...      -1.410193   0.702364  -1.402538        NaN   \n",
       "TCGA-A2-A0EV    ...       0.018893  -1.574649  -4.515280        NaN   \n",
       "TCGA-A2-A0EX    ...      -0.822137  -2.938187  -3.395914  -1.827636   \n",
       "TCGA-A2-A0EY    ...      -0.303303  -1.327622  -0.615596   0.204692   \n",
       "TCGA-A2-A0SW    ...      -0.371991   0.419182  -0.774010        NaN   \n",
       "TCGA-A2-A0SX    ...            NaN  -2.063939   0.313471        NaN   \n",
       "TCGA-A2-A0T3    ...       1.516930   0.592984   0.738219  -0.510190   \n",
       "TCGA-A2-A0T6    ...       0.939211  -2.141861  -3.549264        NaN   \n",
       "TCGA-A2-A0YC    ...       3.005359  -1.517689  -1.288774        NaN   \n",
       "TCGA-A2-A0YD    ...      -1.094889   0.004663   1.228357  -0.905719   \n",
       "TCGA-A2-A0YF    ...       2.143510  -1.149891  -1.271028  -0.881119   \n",
       "TCGA-A2-A0YG    ...      -1.508461   2.643687   0.229490  -1.275157   \n",
       "TCGA-A2-A0YM    ...            NaN  -2.194239   1.621165        NaN   \n",
       "TCGA-A7-A0CE    ...      -3.329417   1.922643   2.935811        NaN   \n",
       "TCGA-A7-A0CJ    ...       1.699363   1.148427  -1.602876  -1.176999   \n",
       "TCGA-A7-A13F    ...       2.850065   0.407366   0.704668   0.572088   \n",
       "TCGA-A8-A06N    ...       1.870028  -1.945214        NaN        NaN   \n",
       "TCGA-A8-A06Z    ...       1.790278   0.584990  -0.607699        NaN   \n",
       "\n",
       "              NP_036451  NP_000624  NP_569082  NP_001159  NP_001229  NP_002458  \n",
       "TCGA-A2-A0CM  -1.792547        NaN        NaN   2.516489   2.556897        NaN  \n",
       "TCGA-A2-A0D2  -1.342826  -4.183584  -2.889608   3.487128        NaN  -0.714133  \n",
       "TCGA-A2-A0EQ        NaN   1.934688        NaN   0.798041   2.003576        NaN  \n",
       "TCGA-A2-A0EV        NaN   2.049328        NaN  -0.266769  -3.201798  -7.724769  \n",
       "TCGA-A2-A0EX   0.082061   0.044543  -2.079011  -3.046991   2.554537  -0.443199  \n",
       "TCGA-A2-A0EY        NaN        NaN  -0.490679  -1.169394        NaN        NaN  \n",
       "TCGA-A2-A0SW  -0.510286  -0.317317        NaN   0.313049        NaN        NaN  \n",
       "TCGA-A2-A0SX        NaN  -1.337011        NaN   0.393910        NaN        NaN  \n",
       "TCGA-A2-A0T3  -1.480488  -0.847013        NaN   1.921736        NaN        NaN  \n",
       "TCGA-A2-A0T6  -1.460636  -0.813991        NaN        NaN  -1.187454  -7.000341  \n",
       "TCGA-A2-A0YC   1.406899   1.777900        NaN  -2.879340   0.467558        NaN  \n",
       "TCGA-A2-A0YD  -2.702835   0.072646        NaN   0.190877        NaN        NaN  \n",
       "TCGA-A2-A0YF   3.017965   2.253290        NaN  -2.626243        NaN        NaN  \n",
       "TCGA-A2-A0YG  -0.997896  -2.495780        NaN        NaN   1.673275        NaN  \n",
       "TCGA-A2-A0YM        NaN  -1.001925        NaN  -0.414940        NaN        NaN  \n",
       "TCGA-A7-A0CE  -2.253124  -3.430418        NaN   0.997851   1.209322        NaN  \n",
       "TCGA-A7-A0CJ   0.834089   3.463713        NaN   0.398072        NaN  -1.981434  \n",
       "TCGA-A7-A13F   2.323760  -0.938529        NaN   0.310944        NaN        NaN  \n",
       "TCGA-A8-A06N   0.934533   0.669664        NaN  -0.232018  -0.389812        NaN  \n",
       "TCGA-A8-A06Z   1.981361        NaN        NaN  -0.061749   0.679482        NaN  \n",
       "\n",
       "[20 rows x 43 columns]"
      ]
     },
     "execution_count": 19,
     "metadata": {},
     "output_type": "execute_result"
    }
   ],
   "source": [
    "processed_numerical_p50.head(20)"
   ]
  },
  {
   "cell_type": "code",
   "execution_count": 20,
   "metadata": {
    "_cell_guid": "b985e57c-12e3-43ab-abb3-4668da79ebb9",
    "_uuid": "2884151259462aa9ddd0a325d07a1e7d028a2bbb"
   },
   "outputs": [
    {
     "data": {
      "text/plain": [
       "43"
      ]
     },
     "execution_count": 20,
     "metadata": {},
     "output_type": "execute_result"
    }
   ],
   "source": [
    "#how many proteins?\n",
    "len(processed_numerical_p50.columns)"
   ]
  },
  {
   "cell_type": "code",
   "execution_count": 21,
   "metadata": {
    "_cell_guid": "a51f28cc-476a-436a-88e2-49edfc0add81",
    "_uuid": "3bc4c9c1e375d444a420e9bc1ac33a63ecdb1985",
    "collapsed": true
   },
   "outputs": [],
   "source": [
    "#NaN\n",
    "## Impute missing values (maybe another method would work better? mean, or drop columns?)\n",
    "from sklearn.preprocessing import Imputer, StandardScaler\n",
    "\n",
    "\n",
    "imputer = Imputer(missing_values='NaN', strategy='median', axis=1).fit(processed_numerical_p50)\n",
    "processed_numerical_p50 = imputer.transform(processed_numerical_p50)\n",
    "scaler = StandardScaler()\n",
    "processed_numerical_p50= scaler.fit_transform(processed_numerical_p50)\n",
    "# Beware imputer.transform returns a numpy array, not a dataframe"
   ]
  },
  {
   "cell_type": "code",
   "execution_count": 22,
   "metadata": {
    "_cell_guid": "534d0f37-e2cd-4cf9-9139-65633b225b5c",
    "_uuid": "9ffc106a921d35a24e4fa2268b1666855211473e",
    "collapsed": true
   },
   "outputs": [],
   "source": [
    "#if dimensions > 10 (quite always), try different models (for KMeans different clusters).\n",
    "## Check which number of clusters works best, 20 and 79 are just for fun and comparison.\n",
    "n_clusters = [2,3,4,5,6,7,8,10,20,79]"
   ]
  },
  {
   "cell_type": "code",
   "execution_count": 23,
   "metadata": {
    "_cell_guid": "2b69eeaf-4907-465c-a5ef-b67e07a18e61",
    "_uuid": "b6d9c14e8fbe3a50ad3583be0df0257959115d2a",
    "collapsed": true
   },
   "outputs": [],
   "source": [
    "from sklearn.cluster import KMeans\n",
    "from sklearn import metrics\n",
    "\n",
    "def compare_k_means(k_list, data):\n",
    "    ## Run clustering with different k and check the metrics\n",
    "    for k in k_list:\n",
    "        clusterer = KMeans(n_clusters=k, random_state=0)\n",
    "        clusterer.fit(data)\n",
    "        ##\n",
    "        print(\"Silhouette Coefficient for k == {}: {}\".format(k, metrics.silhouette_score(data, clusterer.labels_)))\n",
    "        print(\"Homogeneity score for k == {}: {}\".format(k, metrics.homogeneity_score(processed['PAM50 mRNA'], clusterer.labels_)))\n",
    "        \n",
    "        print(\"------------------------------------\")"
   ]
  },
  {
   "cell_type": "code",
   "execution_count": 24,
   "metadata": {
    "_cell_guid": "4c3627a5-5ea4-4a47-b88c-800e14557884",
    "_uuid": "5b4c081b490e4f0af7edde17a9ce90b8f78914f8"
   },
   "outputs": [
    {
     "name": "stdout",
     "output_type": "stream",
     "text": [
      "Silhouette Coefficient for k == 2: 0.15696581955301553\n",
      "Homogeneity score for k == 2: 0.15645672612444617\n",
      "------------------------------------\n",
      "Silhouette Coefficient for k == 3: 0.1321317039329827\n",
      "Homogeneity score for k == 3: 0.4345852830582786\n",
      "------------------------------------\n",
      "Silhouette Coefficient for k == 4: 0.130101973372293\n",
      "Homogeneity score for k == 4: 0.5099731951878883\n",
      "------------------------------------\n",
      "Silhouette Coefficient for k == 5: 0.11989046761712183\n",
      "Homogeneity score for k == 5: 0.5036832758691269\n",
      "------------------------------------\n",
      "Silhouette Coefficient for k == 6: 0.11377601873559848\n",
      "Homogeneity score for k == 6: 0.5140619986562179\n",
      "------------------------------------\n",
      "Silhouette Coefficient for k == 7: 0.10557902490823363\n",
      "Homogeneity score for k == 7: 0.49012055189297393\n",
      "------------------------------------\n",
      "Silhouette Coefficient for k == 8: 0.09885918174149169\n",
      "Homogeneity score for k == 8: 0.5307514570967622\n",
      "------------------------------------\n",
      "Silhouette Coefficient for k == 10: 0.0724564098473394\n",
      "Homogeneity score for k == 10: 0.6512953325172048\n",
      "------------------------------------\n",
      "Silhouette Coefficient for k == 20: 0.047446817008125385\n",
      "Homogeneity score for k == 20: 0.6828444951220715\n",
      "------------------------------------\n",
      "Silhouette Coefficient for k == 79: 0.008083989501452272\n",
      "Homogeneity score for k == 79: 1.0000000000000004\n",
      "------------------------------------\n"
     ]
    }
   ],
   "source": [
    "#Non-perfect labelings that further split classes into more clusters can be perfectly homogeneous\n",
    "compare_k_means(n_clusters,processed_numerical_p50)"
   ]
  },
  {
   "cell_type": "code",
   "execution_count": 25,
   "metadata": {
    "_cell_guid": "e09d6269-e6a3-45c0-9593-232b38c1edd2",
    "_uuid": "8f01b163fdadd2c0452108d5b0412d704bfa8716"
   },
   "outputs": [
    {
     "data": {
      "text/plain": [
       "TCGA-A2-A0CM       Basal-like\n",
       "TCGA-A2-A0D2       Basal-like\n",
       "TCGA-A2-A0EQ    HER2-enriched\n",
       "TCGA-A2-A0EV        Luminal A\n",
       "TCGA-A2-A0EX        Luminal A\n",
       "TCGA-A2-A0EY        Luminal B\n",
       "TCGA-A2-A0SW        Luminal B\n",
       "TCGA-A2-A0SX       Basal-like\n",
       "TCGA-A2-A0T3        Luminal B\n",
       "TCGA-A2-A0T6        Luminal A\n",
       "TCGA-A2-A0YC        Luminal A\n",
       "TCGA-A2-A0YD        Luminal A\n",
       "TCGA-A2-A0YF        Luminal A\n",
       "TCGA-A2-A0YG        Luminal B\n",
       "TCGA-A2-A0YM       Basal-like\n",
       "TCGA-A7-A0CE       Basal-like\n",
       "TCGA-A7-A0CJ        Luminal B\n",
       "TCGA-A7-A13F        Luminal B\n",
       "TCGA-A8-A06N        Luminal B\n",
       "TCGA-A8-A06Z        Luminal B\n",
       "TCGA-A8-A076    HER2-enriched\n",
       "TCGA-A8-A079        Luminal B\n",
       "TCGA-A8-A08Z        Luminal A\n",
       "TCGA-A8-A09G    HER2-enriched\n",
       "TCGA-AN-A04A        Luminal A\n",
       "TCGA-AN-A0AJ        Luminal B\n",
       "TCGA-AN-A0AL       Basal-like\n",
       "TCGA-AN-A0AM        Luminal B\n",
       "TCGA-AN-A0FK        Luminal B\n",
       "TCGA-AN-A0FL       Basal-like\n",
       "                    ...      \n",
       "TCGA-AR-A1AP        Luminal A\n",
       "TCGA-AR-A1AS        Luminal A\n",
       "TCGA-AR-A1AV        Luminal B\n",
       "TCGA-AR-A1AW        Luminal A\n",
       "TCGA-BH-A0AV       Basal-like\n",
       "TCGA-BH-A0BV        Luminal A\n",
       "TCGA-BH-A0C1        Luminal A\n",
       "TCGA-BH-A0C7        Luminal B\n",
       "TCGA-BH-A0DD        Luminal B\n",
       "TCGA-BH-A0DG        Luminal A\n",
       "TCGA-BH-A0E1        Luminal A\n",
       "TCGA-BH-A0E9        Luminal A\n",
       "TCGA-BH-A18N        Luminal A\n",
       "TCGA-BH-A18Q       Basal-like\n",
       "TCGA-BH-A18U        Luminal B\n",
       "TCGA-C8-A12L    HER2-enriched\n",
       "TCGA-C8-A12T    HER2-enriched\n",
       "TCGA-C8-A12U        Luminal B\n",
       "TCGA-C8-A12V       Basal-like\n",
       "TCGA-C8-A12Z    HER2-enriched\n",
       "TCGA-C8-A130    HER2-enriched\n",
       "TCGA-C8-A131       Basal-like\n",
       "TCGA-C8-A131       Basal-like\n",
       "TCGA-C8-A134       Basal-like\n",
       "TCGA-C8-A135    HER2-enriched\n",
       "TCGA-C8-A138    HER2-enriched\n",
       "TCGA-D8-A142       Basal-like\n",
       "TCGA-E2-A154        Luminal A\n",
       "TCGA-E2-A158       Basal-like\n",
       "TCGA-E2-A15A        Luminal B\n",
       "Name: PAM50 mRNA, Length: 80, dtype: object"
      ]
     },
     "execution_count": 25,
     "metadata": {},
     "output_type": "execute_result"
    }
   ],
   "source": [
    "processed['PAM50 mRNA']"
   ]
  },
  {
   "cell_type": "code",
   "execution_count": 26,
   "metadata": {
    "_cell_guid": "c2602b37-0a23-4580-a018-fe26e9ad48ae",
    "_uuid": "887dc9fce49ed8134fad93720fcc4d5b09dfa51b",
    "collapsed": true
   },
   "outputs": [],
   "source": [
    "#What would have happened with random proteins?\n",
    "## Create a random numerical matrix with imputation:\n",
    "from numpy import random\n",
    "\n",
    "rnd_indexing = random.choice(range( processed_numerical.shape[1]) , 43)\n",
    "processed_numerical_random = processed_numerical.iloc[:, rnd_indexing]\n",
    "#NaN inside!\n",
    "imputer_rnd = imputer.fit(processed_numerical_random)\n",
    "processed_numerical_random = imputer_rnd.transform(processed_numerical_random)"
   ]
  },
  {
   "cell_type": "code",
   "execution_count": 27,
   "metadata": {
    "_cell_guid": "b0cd7173-a743-4b45-85aa-25e3ea6c34af",
    "_uuid": "e6fcccffb2c8f4830157225f82f263c49e246634"
   },
   "outputs": [
    {
     "name": "stdout",
     "output_type": "stream",
     "text": [
      "Silhouette Coefficient for k == 2: 0.18473655118580384\n",
      "Homogeneity score for k == 2: 0.019547204029475046\n",
      "------------------------------------\n",
      "Silhouette Coefficient for k == 3: 0.10518327027704114\n",
      "Homogeneity score for k == 3: 0.04537075344033597\n",
      "------------------------------------\n",
      "Silhouette Coefficient for k == 4: 0.08680534658114743\n",
      "Homogeneity score for k == 4: 0.05631818662741109\n",
      "------------------------------------\n",
      "Silhouette Coefficient for k == 5: 0.08160346502240165\n",
      "Homogeneity score for k == 5: 0.11828628320977098\n",
      "------------------------------------\n",
      "Silhouette Coefficient for k == 6: 0.0738305166759085\n",
      "Homogeneity score for k == 6: 0.14618130583985736\n",
      "------------------------------------\n",
      "Silhouette Coefficient for k == 7: 0.07626269803624527\n",
      "Homogeneity score for k == 7: 0.17173518038525515\n",
      "------------------------------------\n",
      "Silhouette Coefficient for k == 8: 0.09527599304147712\n",
      "Homogeneity score for k == 8: 0.17477504273213817\n",
      "------------------------------------\n",
      "Silhouette Coefficient for k == 10: 0.08086828897410661\n",
      "Homogeneity score for k == 10: 0.2166512352217252\n",
      "------------------------------------\n",
      "Silhouette Coefficient for k == 20: 0.06665952457222464\n",
      "Homogeneity score for k == 20: 0.4583440596410262\n",
      "------------------------------------\n",
      "Silhouette Coefficient for k == 79: 0.010468185930443758\n",
      "Homogeneity score for k == 79: 1.0000000000000002\n",
      "------------------------------------\n"
     ]
    }
   ],
   "source": [
    "compare_k_means(n_clusters, processed_numerical_random)"
   ]
  },
  {
   "cell_type": "code",
   "execution_count": 28,
   "metadata": {
    "_cell_guid": "f4605b8e-6b87-4f20-a722-bd7aea6e990e",
    "_uuid": "49f869746f794ae5bf91d269092336f92cb117b7"
   },
   "outputs": [
    {
     "data": {
      "text/plain": [
       "array(['Basal-like', 'Basal-like', 'HER2-enriched', 'Luminal A',\n",
       "       'Luminal A', 'Luminal B', 'Luminal B', 'Basal-like', 'Luminal B',\n",
       "       'Luminal A', 'Luminal A', 'Luminal A', 'Luminal A', 'Luminal B',\n",
       "       'Basal-like', 'Basal-like', 'Luminal B', 'Luminal B', 'Luminal B',\n",
       "       'Luminal B', 'HER2-enriched', 'Luminal B', 'Luminal A',\n",
       "       'HER2-enriched', 'Luminal A', 'Luminal B', 'Basal-like',\n",
       "       'Luminal B', 'Luminal B', 'Basal-like', 'Luminal B', 'Basal-like',\n",
       "       'Luminal A', 'Luminal B', 'HER2-enriched', 'Luminal A',\n",
       "       'Basal-like', 'Luminal B', 'Luminal A', 'Luminal B', 'Luminal B',\n",
       "       'HER2-enriched', 'HER2-enriched', 'Luminal A', 'Basal-like',\n",
       "       'Luminal A', 'Luminal B', 'Luminal B', 'HER2-enriched',\n",
       "       'Basal-like', 'Luminal A', 'Luminal A', 'Luminal B', 'Luminal A',\n",
       "       'Basal-like', 'Luminal A', 'Luminal A', 'Luminal B', 'Luminal B',\n",
       "       'Luminal A', 'Luminal A', 'Luminal A', 'Luminal A', 'Basal-like',\n",
       "       'Luminal B', 'HER2-enriched', 'HER2-enriched', 'Luminal B',\n",
       "       'Basal-like', 'HER2-enriched', 'HER2-enriched', 'Basal-like',\n",
       "       'Basal-like', 'Basal-like', 'HER2-enriched', 'HER2-enriched',\n",
       "       'Basal-like', 'Luminal A', 'Basal-like', 'Luminal B'], dtype=object)"
      ]
     },
     "execution_count": 28,
     "metadata": {},
     "output_type": "execute_result"
    }
   ],
   "source": [
    "#The scores are pretty much lower than p50 (are they significantly lower?)\n",
    "processed['PAM50 mRNA'].values"
   ]
  },
  {
   "cell_type": "markdown",
   "metadata": {
    "_cell_guid": "5cfceac2-6b21-4693-ba50-d31602441f3b",
    "_uuid": "b247767d9a83700eabbe93420187ec13558b0732"
   },
   "source": [
    "## Visualization"
   ]
  },
  {
   "cell_type": "code",
   "execution_count": 29,
   "metadata": {
    "_cell_guid": "2bd21497-eebb-4b95-af3d-bde95d96915e",
    "_uuid": "3f5d705c951b743caa5e755b1e4966efce5f2b86",
    "collapsed": true
   },
   "outputs": [],
   "source": [
    "## Visualize data using k==3, show the heatmap of protein expression for the used PAM50 proteins (43 available in our data)\n",
    "clusterer_final = KMeans(n_clusters=3, random_state=0).fit(processed_numerical_p50)\n",
    "processed_p50_plot = pd.DataFrame(processed_numerical_p50) #to use pandas methods\n",
    "## add a column with the predictions\n",
    "processed_p50_plot['KMeans_cluster'] = clusterer_final.labels_\n",
    "\n",
    "from sklearn.preprocessing import LabelEncoder\n",
    "\n",
    "\n",
    "le = LabelEncoder()\n",
    "\n",
    "processed_p50_plot['ref_cluster']= le.fit_transform(processed['PAM50 mRNA'].values)\n",
    "## sort the samples (axis 0) by cluster\n",
    "processed_p50_plot.sort_values('KMeans_cluster', axis = 0, inplace=True)\n",
    "\n"
   ]
  },
  {
   "cell_type": "code",
   "execution_count": 30,
   "metadata": {
    "_uuid": "b869d6b965be07da78573555eddefec644caa2fe"
   },
   "outputs": [
    {
     "data": {
      "text/plain": [
       "0.43968574390310439"
      ]
     },
     "execution_count": 30,
     "metadata": {},
     "output_type": "execute_result"
    }
   ],
   "source": [
    "from sklearn.metrics import adjusted_rand_score as rn\n",
    "rn(le.fit_transform(processed['PAM50 mRNA'].values), clusterer_final.labels_)"
   ]
  },
  {
   "cell_type": "code",
   "execution_count": 31,
   "metadata": {
    "_cell_guid": "76a64a5e-6dab-4f33-aa76-b0cb6e069128",
    "_uuid": "71c4119d14b6d825e09d5867f50ecbdb377777d6"
   },
   "outputs": [
    {
     "data": {
      "text/html": [
       "<div>\n",
       "<style>\n",
       "    .dataframe thead tr:only-child th {\n",
       "        text-align: right;\n",
       "    }\n",
       "\n",
       "    .dataframe thead th {\n",
       "        text-align: left;\n",
       "    }\n",
       "\n",
       "    .dataframe tbody tr th {\n",
       "        vertical-align: top;\n",
       "    }\n",
       "</style>\n",
       "<table border=\"1\" class=\"dataframe\">\n",
       "  <thead>\n",
       "    <tr style=\"text-align: right;\">\n",
       "      <th></th>\n",
       "      <th>0</th>\n",
       "      <th>1</th>\n",
       "      <th>2</th>\n",
       "      <th>3</th>\n",
       "      <th>4</th>\n",
       "      <th>5</th>\n",
       "      <th>6</th>\n",
       "      <th>7</th>\n",
       "      <th>8</th>\n",
       "      <th>9</th>\n",
       "      <th>...</th>\n",
       "      <th>35</th>\n",
       "      <th>36</th>\n",
       "      <th>37</th>\n",
       "      <th>38</th>\n",
       "      <th>39</th>\n",
       "      <th>40</th>\n",
       "      <th>41</th>\n",
       "      <th>42</th>\n",
       "      <th>KMeans_cluster</th>\n",
       "      <th>ref_cluster</th>\n",
       "    </tr>\n",
       "  </thead>\n",
       "  <tbody>\n",
       "    <tr>\n",
       "      <th>49</th>\n",
       "      <td>0.660950</td>\n",
       "      <td>2.183580</td>\n",
       "      <td>-0.726834</td>\n",
       "      <td>-0.896669</td>\n",
       "      <td>-0.648917</td>\n",
       "      <td>-0.969341</td>\n",
       "      <td>2.777924</td>\n",
       "      <td>-0.914306</td>\n",
       "      <td>-0.919375</td>\n",
       "      <td>-0.896533</td>\n",
       "      <td>...</td>\n",
       "      <td>1.279511</td>\n",
       "      <td>0.089925</td>\n",
       "      <td>0.103084</td>\n",
       "      <td>0.239467</td>\n",
       "      <td>0.793790</td>\n",
       "      <td>0.699270</td>\n",
       "      <td>-0.038193</td>\n",
       "      <td>0.410067</td>\n",
       "      <td>2</td>\n",
       "      <td>0</td>\n",
       "    </tr>\n",
       "    <tr>\n",
       "      <th>36</th>\n",
       "      <td>1.277512</td>\n",
       "      <td>-0.302547</td>\n",
       "      <td>-1.268637</td>\n",
       "      <td>-0.466743</td>\n",
       "      <td>-0.252374</td>\n",
       "      <td>-0.034552</td>\n",
       "      <td>-0.093599</td>\n",
       "      <td>-0.139466</td>\n",
       "      <td>-0.113004</td>\n",
       "      <td>-0.161025</td>\n",
       "      <td>...</td>\n",
       "      <td>-0.119420</td>\n",
       "      <td>-0.443904</td>\n",
       "      <td>0.989568</td>\n",
       "      <td>-0.047486</td>\n",
       "      <td>-0.265465</td>\n",
       "      <td>0.644040</td>\n",
       "      <td>-0.465502</td>\n",
       "      <td>0.088911</td>\n",
       "      <td>2</td>\n",
       "      <td>0</td>\n",
       "    </tr>\n",
       "    <tr>\n",
       "      <th>44</th>\n",
       "      <td>2.095712</td>\n",
       "      <td>0.450473</td>\n",
       "      <td>0.850413</td>\n",
       "      <td>1.495109</td>\n",
       "      <td>1.105120</td>\n",
       "      <td>-0.117147</td>\n",
       "      <td>0.228672</td>\n",
       "      <td>-0.199258</td>\n",
       "      <td>-0.203224</td>\n",
       "      <td>-0.195063</td>\n",
       "      <td>...</td>\n",
       "      <td>1.051265</td>\n",
       "      <td>1.889622</td>\n",
       "      <td>-0.036834</td>\n",
       "      <td>-1.095819</td>\n",
       "      <td>0.706839</td>\n",
       "      <td>1.256316</td>\n",
       "      <td>0.159315</td>\n",
       "      <td>0.723191</td>\n",
       "      <td>2</td>\n",
       "      <td>0</td>\n",
       "    </tr>\n",
       "    <tr>\n",
       "      <th>65</th>\n",
       "      <td>0.337093</td>\n",
       "      <td>-0.035957</td>\n",
       "      <td>1.320048</td>\n",
       "      <td>0.720312</td>\n",
       "      <td>1.699028</td>\n",
       "      <td>0.528164</td>\n",
       "      <td>1.477650</td>\n",
       "      <td>-0.514438</td>\n",
       "      <td>-0.666041</td>\n",
       "      <td>-0.636857</td>\n",
       "      <td>...</td>\n",
       "      <td>0.597110</td>\n",
       "      <td>0.032535</td>\n",
       "      <td>0.626756</td>\n",
       "      <td>-0.521790</td>\n",
       "      <td>0.002988</td>\n",
       "      <td>0.044311</td>\n",
       "      <td>1.090895</td>\n",
       "      <td>-1.717836</td>\n",
       "      <td>2</td>\n",
       "      <td>1</td>\n",
       "    </tr>\n",
       "    <tr>\n",
       "      <th>0</th>\n",
       "      <td>1.915429</td>\n",
       "      <td>1.787003</td>\n",
       "      <td>2.368701</td>\n",
       "      <td>0.956765</td>\n",
       "      <td>2.681554</td>\n",
       "      <td>-0.857792</td>\n",
       "      <td>0.685045</td>\n",
       "      <td>-1.013190</td>\n",
       "      <td>-1.010000</td>\n",
       "      <td>-1.054019</td>\n",
       "      <td>...</td>\n",
       "      <td>1.900924</td>\n",
       "      <td>0.848312</td>\n",
       "      <td>-0.723463</td>\n",
       "      <td>0.875375</td>\n",
       "      <td>1.344156</td>\n",
       "      <td>1.886258</td>\n",
       "      <td>1.534476</td>\n",
       "      <td>0.866318</td>\n",
       "      <td>2</td>\n",
       "      <td>0</td>\n",
       "    </tr>\n",
       "  </tbody>\n",
       "</table>\n",
       "<p>5 rows × 45 columns</p>\n",
       "</div>"
      ],
      "text/plain": [
       "           0         1         2         3         4         5         6  \\\n",
       "49  0.660950  2.183580 -0.726834 -0.896669 -0.648917 -0.969341  2.777924   \n",
       "36  1.277512 -0.302547 -1.268637 -0.466743 -0.252374 -0.034552 -0.093599   \n",
       "44  2.095712  0.450473  0.850413  1.495109  1.105120 -0.117147  0.228672   \n",
       "65  0.337093 -0.035957  1.320048  0.720312  1.699028  0.528164  1.477650   \n",
       "0   1.915429  1.787003  2.368701  0.956765  2.681554 -0.857792  0.685045   \n",
       "\n",
       "           7         8         9     ...             35        36        37  \\\n",
       "49 -0.914306 -0.919375 -0.896533     ...       1.279511  0.089925  0.103084   \n",
       "36 -0.139466 -0.113004 -0.161025     ...      -0.119420 -0.443904  0.989568   \n",
       "44 -0.199258 -0.203224 -0.195063     ...       1.051265  1.889622 -0.036834   \n",
       "65 -0.514438 -0.666041 -0.636857     ...       0.597110  0.032535  0.626756   \n",
       "0  -1.013190 -1.010000 -1.054019     ...       1.900924  0.848312 -0.723463   \n",
       "\n",
       "          38        39        40        41        42  KMeans_cluster  \\\n",
       "49  0.239467  0.793790  0.699270 -0.038193  0.410067               2   \n",
       "36 -0.047486 -0.265465  0.644040 -0.465502  0.088911               2   \n",
       "44 -1.095819  0.706839  1.256316  0.159315  0.723191               2   \n",
       "65 -0.521790  0.002988  0.044311  1.090895 -1.717836               2   \n",
       "0   0.875375  1.344156  1.886258  1.534476  0.866318               2   \n",
       "\n",
       "    ref_cluster  \n",
       "49            0  \n",
       "36            0  \n",
       "44            0  \n",
       "65            1  \n",
       "0             0  \n",
       "\n",
       "[5 rows x 45 columns]"
      ]
     },
     "execution_count": 31,
     "metadata": {},
     "output_type": "execute_result"
    }
   ],
   "source": [
    "processed_p50_plot.tail()"
   ]
  },
  {
   "cell_type": "code",
   "execution_count": 43,
   "metadata": {
    "_cell_guid": "ec853ccc-4fff-4a29-a8c8-38f5fad0776e",
    "_uuid": "d49432f82ae396e362736cf96fa60242566be072"
   },
   "outputs": [
    {
     "data": {
      "text/plain": [
       "<matplotlib.axes._subplots.AxesSubplot at 0x1160145f8>"
      ]
     },
     "execution_count": 43,
     "metadata": {},
     "output_type": "execute_result"
    },
    {
     "data": {
      "image/png": "[encoded data removed]",
      "text/plain": [
       "<matplotlib.figure.Figure at 0x115fc9080>"
      ]
     },
     "metadata": {},
     "output_type": "display_data"
    }
   ],
   "source": [
    "import matplotlib.pyplot as plt\n",
    "%matplotlib inline\n",
    "\n",
    "processed_p50_plot.index.name = 'Patient'\n",
    "\n",
    "sns.heatmap(processed_p50_plot, cmap='YlGnBu',)\n"
   ]
  },
  {
   "cell_type": "code",
   "execution_count": 41,
   "metadata": {
    "_cell_guid": "f435efa7-09ec-4e6f-b576-ea958204e815",
    "_uuid": "754e0d47081155637559da180a8b32b592155b6a"
   },
   "outputs": [
    {
     "data": {
      "text/plain": [
       "array(['Basal-like', 'HER2-enriched', 'Luminal A', 'Luminal B'], dtype=object)"
      ]
     },
     "execution_count": 41,
     "metadata": {},
     "output_type": "execute_result"
    }
   ],
   "source": [
    "le.inverse_transform([0,1,2,3])"
   ]
  },
  {
   "cell_type": "code",
   "execution_count": 44,
   "metadata": {
    "_cell_guid": "aa397314-bcbe-4f4a-94d8-ca172d414b93",
    "_uuid": "30b89616fb5878b5a27e3432c12e6d17da5a4443"
   },
   "outputs": [
    {
     "name": "stdout",
     "output_type": "stream",
     "text": [
      "0.1 10\n",
      "no clustering can be made\n",
      "Homogeneity score for eps == 0.1, min_samples == 10: -3.2688113363820603e-16\n",
      "------------------------------------\n",
      "0.1 15\n",
      "no clustering can be made\n",
      "Homogeneity score for eps == 0.1, min_samples == 15: -3.2688113363820603e-16\n",
      "------------------------------------\n",
      "0.1 20\n",
      "no clustering can be made\n",
      "Homogeneity score for eps == 0.1, min_samples == 20: -3.2688113363820603e-16\n",
      "------------------------------------\n",
      "0.3 10\n",
      "no clustering can be made\n",
      "Homogeneity score for eps == 0.3, min_samples == 10: -3.2688113363820603e-16\n",
      "------------------------------------\n",
      "0.3 15\n",
      "no clustering can be made\n",
      "Homogeneity score for eps == 0.3, min_samples == 15: -3.2688113363820603e-16\n",
      "------------------------------------\n",
      "0.3 20\n",
      "no clustering can be made\n",
      "Homogeneity score for eps == 0.3, min_samples == 20: -3.2688113363820603e-16\n",
      "------------------------------------\n",
      "0.5 10\n",
      "no clustering can be made\n",
      "Homogeneity score for eps == 0.5, min_samples == 10: -3.2688113363820603e-16\n",
      "------------------------------------\n",
      "0.5 15\n",
      "no clustering can be made\n",
      "Homogeneity score for eps == 0.5, min_samples == 15: -3.2688113363820603e-16\n",
      "------------------------------------\n",
      "0.5 20\n",
      "no clustering can be made\n",
      "Homogeneity score for eps == 0.5, min_samples == 20: -3.2688113363820603e-16\n",
      "------------------------------------\n"
     ]
    }
   ],
   "source": [
    "## Let's do ensemble clustering\n",
    "##First we will try other cluster methods\n",
    "eps = [0.1, 0.3, 0.5]\n",
    "min_samples= [10, 15, 20]\n",
    "\n",
    "import itertools\n",
    "from sklearn.cluster import DBSCAN\n",
    "import numpy as np\n",
    "db_params=itertools.product(eps, min_samples)\n",
    "\n",
    "def compare_DBSCAN(param_list, data):\n",
    "    ## Run clustering with different k and check the metrics\n",
    "    for eps, min_samples in param_list:\n",
    "        print(eps, min_samples)\n",
    "        clusterer = DBSCAN(eps=eps, min_samples=min_samples)\n",
    "        \n",
    "        clusterer.fit(data)\n",
    "        ##\n",
    "        if len(np.unique(clusterer.labels_)) > 1:\n",
    "            print(\"Silhouette Coefficient for eps == {}, min_samples == {}: {}\".format(eps, min_samples, metrics.silhouette_score(data, clusterer.labels_)))\n",
    "        else:\n",
    "            print(\"no clustering can be made\")\n",
    "        print(\"Homogeneity score for eps == {}, min_samples == {}: {}\".format(eps, min_samples, metrics.homogeneity_score(processed['PAM50 mRNA'], clusterer.labels_)))\n",
    "        \n",
    "        print(\"------------------------------------\")\n",
    "\n",
    "compare_DBSCAN(db_params, processed_numerical_p50)"
   ]
  },
  {
   "cell_type": "code",
   "execution_count": 45,
   "metadata": {
    "_cell_guid": "429401fc-c8e0-419b-a62e-93fc6c421a16",
    "_uuid": "355b1768e603dedf7f291435ccbb1a0bd490ad47"
   },
   "outputs": [
    {
     "name": "stdout",
     "output_type": "stream",
     "text": [
      "Silhouette Coefficient for k == 2: -0.03843916926434747\n",
      "Homogeneity score for k == 2: 0.030646181075304035\n",
      "------------------------------------\n",
      "Silhouette Coefficient for k == 3: -0.10460324550888264\n",
      "Homogeneity score for k == 3: 0.056156453688779626\n",
      "------------------------------------\n",
      "Silhouette Coefficient for k == 4: -0.12973031590961778\n",
      "Homogeneity score for k == 4: 0.07768844987204618\n",
      "------------------------------------\n",
      "Silhouette Coefficient for k == 5: -0.15448840149353343\n",
      "Homogeneity score for k == 5: 0.11282741547186959\n",
      "------------------------------------\n",
      "Silhouette Coefficient for k == 6: -0.15012075483682286\n",
      "Homogeneity score for k == 6: 0.1338675158097005\n",
      "------------------------------------\n",
      "Silhouette Coefficient for k == 7: -0.1618923488268726\n",
      "Homogeneity score for k == 7: 0.16023207617886595\n",
      "------------------------------------\n",
      "Silhouette Coefficient for k == 8: -0.17636135865093389\n",
      "Homogeneity score for k == 8: 0.1681728659924298\n",
      "------------------------------------\n",
      "Silhouette Coefficient for k == 10: -0.1720682276840852\n",
      "Homogeneity score for k == 10: 0.20725582239775878\n",
      "------------------------------------\n",
      "Silhouette Coefficient for k == 20: -0.16453428476941612\n",
      "Homogeneity score for k == 20: 0.34412147026187856\n",
      "------------------------------------\n",
      "Silhouette Coefficient for k == 79: -0.009907377758458034\n",
      "Homogeneity score for k == 79: 0.9872448636932627\n",
      "------------------------------------\n"
     ]
    }
   ],
   "source": [
    "from sklearn.cluster import SpectralClustering\n",
    "\n",
    "def compare_spclust(klist, data):\n",
    "    ## Run clustering with different k and check the metrics\n",
    "    for k in klist:\n",
    "        \n",
    "        clusterer = SpectralClustering(n_clusters=k)\n",
    "        \n",
    "        clusterer.fit(data)\n",
    "        ##\n",
    "        if len(np.unique(clusterer.labels_)) > 1:\n",
    "            print(\"Silhouette Coefficient for k == {}: {}\".format(k, metrics.silhouette_score(data, clusterer.labels_)))\n",
    "        else:\n",
    "            print(\"no clustering can be made\")\n",
    "        print(\"Homogeneity score for k == {}: {}\".format(k , metrics.homogeneity_score(processed['PAM50 mRNA'], clusterer.labels_)))\n",
    "        \n",
    "        print(\"------------------------------------\")\n",
    "\n",
    "compare_spclust(n_clusters, processed_numerical_p50)"
   ]
  },
  {
   "cell_type": "code",
   "execution_count": 46,
   "metadata": {
    "_cell_guid": "0f3873e5-93fe-442c-9145-ca9076b8c09d",
    "_uuid": "4693eff234b029cca81016c9a5fd00f17bc67b5e"
   },
   "outputs": [
    {
     "data": {
      "text/plain": [
       "<matplotlib.axes._subplots.AxesSubplot at 0x18b913438>"
      ]
     },
     "execution_count": 46,
     "metadata": {},
     "output_type": "execute_result"
    },
    {
     "data": {
      "image/png": "[encoded data removed]",
      "text/plain": [
       "<matplotlib.figure.Figure at 0x11624db38>"
      ]
     },
     "metadata": {},
     "output_type": "display_data"
    }
   ],
   "source": [
    "## Visualize data using k==3, show the heatmap of protein expression for the used PAM50 proteins (43 available in our data)\n",
    "clusterer_final2 = SpectralClustering(n_clusters=3, random_state=0).fit(processed_numerical_p50)\n",
    "processed_p50_plot = pd.DataFrame(processed_numerical_p50) #to use pandas methods\n",
    "## add a column with the predictions\n",
    "processed_p50_plot['Spectral_cluster'] = clusterer_final2.labels_\n",
    "\n",
    "from sklearn.preprocessing import LabelEncoder\n",
    "\n",
    "\n",
    "le = LabelEncoder()\n",
    "\n",
    "processed_p50_plot['ref_cluster']= le.fit_transform(processed['PAM50 mRNA'].values)\n",
    "## sort the samples (axis 0) by cluster\n",
    "processed_p50_plot.sort_values('Spectral_cluster', axis = 0, inplace=True)\n",
    "\n",
    "processed_p50_plot.index.name = 'Patient'\n",
    "sns.heatmap(processed_p50_plot, cmap='YlGnBu')"
   ]
  },
  {
   "cell_type": "code",
   "execution_count": 47,
   "metadata": {
    "_cell_guid": "5c8347a1-37da-4822-8116-95319ce247ab",
    "_uuid": "ae150be3f18afc0808b08a3d28e42520a7a89aa6"
   },
   "outputs": [
    {
     "data": {
      "text/plain": [
       "<matplotlib.axes._subplots.AxesSubplot at 0x11634f550>"
      ]
     },
     "execution_count": 47,
     "metadata": {},
     "output_type": "execute_result"
    },
    {
     "data": {
      "image/png": "[encoded data removed]",
      "text/plain": [
       "<matplotlib.figure.Figure at 0x11e6e6208>"
      ]
     },
     "metadata": {},
     "output_type": "display_data"
    }
   ],
   "source": [
    "from sklearn.cluster import MeanShift\n",
    "\n",
    "## Visualize data using k==3, show the heatmap of protein expression for the used PAM50 proteins (43 available in our data)\n",
    "clusterer_final3 = MeanShift().fit(processed_numerical_p50)\n",
    "processed_p50_plot = pd.DataFrame(processed_numerical_p50) #to use pandas methods\n",
    "## add a column with the predictions\n",
    "processed_p50_plot['MeanShift_cluster'] = clusterer_final3.labels_\n",
    "\n",
    "from sklearn.preprocessing import LabelEncoder\n",
    "\n",
    "\n",
    "le = LabelEncoder()\n",
    "\n",
    "processed_p50_plot['ref_cluster']= le.fit_transform(processed['PAM50 mRNA'].values)\n",
    "## sort the samples (axis 0) by cluster\n",
    "processed_p50_plot.sort_values('MeanShift_cluster', axis = 0, inplace=True)\n",
    "\n",
    "processed_p50_plot.index.name = 'Patient'\n",
    "sns.heatmap(processed_p50_plot, cmap='YlGnBu')"
   ]
  },
  {
   "cell_type": "code",
   "execution_count": 48,
   "metadata": {
    "_cell_guid": "85eef01a-2f20-48e1-b753-83beee58ca26",
    "_uuid": "1d9a183dbdb30c336ee8ff13e25ffa91297e2012",
    "collapsed": true
   },
   "outputs": [],
   "source": [
    "### Ensemble clustering with different random_states\n",
    "def ensemble_kmeans(data, rnd_states, k_list):\n",
    "    ## Run clustering with different k and check the metrics\n",
    "    labs=[]\n",
    "    for r in rnd_states:\n",
    "        for k in k_list:\n",
    "            print(k, r)\n",
    "            clusterer = KMeans(n_clusters=k, random_state=r)\n",
    "            clusterer.fit(data)\n",
    "            labs.append(clusterer.labels_)\n",
    "    return np.array(labs)"
   ]
  },
  {
   "cell_type": "code",
   "execution_count": 49,
   "metadata": {
    "_uuid": "34a4abb30d97a7d996546c0a970061a250af99c7"
   },
   "outputs": [
    {
     "name": "stdout",
     "output_type": "stream",
     "text": [
      "3 0\n",
      "4 0\n",
      "5 0\n",
      "6 0\n",
      "3 1\n",
      "4 1\n",
      "5 1\n",
      "6 1\n",
      "3 2\n",
      "4 2\n",
      "5 2\n",
      "6 2\n",
      "3 3\n",
      "4 3\n",
      "5 3\n",
      "6 3\n",
      "3 4\n",
      "4 4\n",
      "5 4\n",
      "6 4\n",
      "3 42\n",
      "4 42\n",
      "5 42\n",
      "6 42\n",
      "3 2371\n",
      "4 2371\n",
      "5 2371\n",
      "6 2371\n"
     ]
    }
   ],
   "source": [
    "rnd_states=[0,1,2,3,4,42,2371]\n",
    "klist=[3,4,5,6]\n",
    "cl_data=ensemble_kmeans(processed_numerical_p50, rnd_states, klist)"
   ]
  },
  {
   "cell_type": "code",
   "execution_count": 50,
   "metadata": {
    "_kg_hide-input": false,
    "_kg_hide-output": false,
    "_uuid": "a9cc7bed26504bb830e228786e82d410e258c927"
   },
   "outputs": [
    {
     "name": "stdout",
     "output_type": "stream",
     "text": [
      "[[2 2 2 ..., 0 2 1]\n",
      " [0 0 2 ..., 3 0 2]\n",
      " [2 2 2 ..., 1 4 3]\n",
      " ..., \n",
      " [2 2 0 ..., 1 2 3]\n",
      " [2 2 3 ..., 1 3 4]\n",
      " [0 0 2 ..., 1 5 2]]\n"
     ]
    }
   ],
   "source": [
    "print(cl_data)"
   ]
  },
  {
   "cell_type": "code",
   "execution_count": 51,
   "metadata": {
    "_uuid": "11af45f514e2a17a6b5e2ca0c9fcb18ffd9269f1",
    "collapsed": true
   },
   "outputs": [],
   "source": [
    "#construct a cooccurrence (consensus) matrix\n",
    "def cons_matrix(labels):\n",
    "    C=np.zeros([labels.shape[1],labels.shape[1]], np.int32)\n",
    "    for label in labels:\n",
    "        for i, val1 in enumerate(label):\n",
    "            for j, val2 in enumerate(label):\n",
    "                #filling C_ij\n",
    "                \n",
    "                if val1 == val2 :\n",
    "                    C[i,j] += 1 \n",
    "                    \n",
    "                ##and with a list comprehension?\n",
    "                \n",
    "    \n",
    "    return pd.DataFrame(C)\n",
    "            "
   ]
  },
  {
   "cell_type": "code",
   "execution_count": 52,
   "metadata": {
    "_uuid": "98a65763098ef9ff8a2298989776e07ca97e44fa"
   },
   "outputs": [
    {
     "name": "stderr",
     "output_type": "stream",
     "text": [
      "/Users/marcop/anaconda/lib/python3.6/site-packages/matplotlib/cbook.py:136: MatplotlibDeprecationWarning: The axisbg attribute was deprecated in version 2.0. Use facecolor instead.\n",
      "  warnings.warn(message, mplDeprecation, stacklevel=1)\n"
     ]
    },
    {
     "data": {
      "image/png": "[encoded data removed]",
      "text/plain": [
       "<matplotlib.figure.Figure at 0x11e939f60>"
      ]
     },
     "metadata": {},
     "output_type": "display_data"
    }
   ],
   "source": [
    "C=cons_matrix(cl_data)\n",
    "C.columns= processed.index\n",
    "C.index=processed.index\n",
    "\n",
    "import matplotlib.pyplot as plt\n",
    "plt.close()\n",
    "g=sns.clustermap(C)\n",
    "plt.setp(g.ax_heatmap.get_yticklabels(), rotation=0)\n",
    "plt.show()"
   ]
  },
  {
   "cell_type": "code",
   "execution_count": 53,
   "metadata": {
    "_uuid": "6df8b62e4358d0c86e22ebe839069432b9ab04f0"
   },
   "outputs": [
    {
     "data": {
      "image/png": "[encoded data removed]",
      "text/plain": [
       "<matplotlib.figure.Figure at 0x11e70fe80>"
      ]
     },
     "metadata": {},
     "output_type": "display_data"
    }
   ],
   "source": [
    "from scipy.cluster.hierarchy import dendrogram\n",
    "den = dendrogram(g.dendrogram_col.linkage,\n",
    "                                         labels = C.index,\n",
    "                                         color_threshold=100)\n"
   ]
  },
  {
   "cell_type": "code",
   "execution_count": null,
   "metadata": {
    "_uuid": "1eaa9e710bedfe202324d7504a0c1b86c280cbd7",
    "collapsed": true
   },
   "outputs": [],
   "source": []
  },
  {
   "cell_type": "markdown",
   "metadata": {
    "_uuid": "679c69524cce4cd95fa1c04318fd6a894724e6ba"
   },
   "source": [
    "##### The tree is represented as a collection of ∏ shaped components.\n",
    "The three items named 'color_list', 'dcoord', 'icoord' indexes these ∏'s.\n",
    "Obviosly 'color_list' contains the colors. The lists in 'dcoord' contain the y coordinates of the ∏'s (the distances) while 'icoord' has the x coordinates. These would be the index coordinates.\n",
    "In the minimal example above we have two ∏'s, and one can see that the x-coordinates are repeated once.\n",
    "The coordinates go from left to right. So for the red ∏, the 'legs' are located at 15 and 25, while the grey one has legs at 5 and 20.\n",
    "The apperant pattern is that legs positioned at leaves will end with 5. The reason is to nicely place the leg at the middle of the corresponding leaf index value. This also implies the actual list indices of the leaf are multiplied by 10.\n",
    "Thus we first subtract 5 from each colors icoord, then divide by 10. If the resulting number is close to the closest integer, we consider this to be an index for a leaf. If the resulting number is not close to an integer index, it means the colored tree we got it from is from non-leaf parts of the trees.\n",
    "For each leaf, we add it to a list per color in a dictionary."
   ]
  },
  {
   "cell_type": "code",
   "execution_count": 55,
   "metadata": {
    "_uuid": "f5edb5c842cf2cc2636e6068600ae5c5ece20280"
   },
   "outputs": [
    {
     "data": {
      "text/plain": [
       "defaultdict(list,\n",
       "            {'c': ['TCGA-A7-A13F',\n",
       "              'TCGA-A8-A06Z',\n",
       "              'TCGA-AO-A12E',\n",
       "              'TCGA-BH-A0E1',\n",
       "              'TCGA-A2-A0SW',\n",
       "              'TCGA-A2-A0T3',\n",
       "              'TCGA-A2-A0YG',\n",
       "              'TCGA-A8-A079',\n",
       "              'TCGA-AN-A0AJ',\n",
       "              'TCGA-AO-A03O',\n",
       "              'TCGA-AR-A0TV',\n",
       "              'TCGA-AR-A1AV',\n",
       "              'TCGA-BH-A0C7',\n",
       "              'TCGA-BH-A0DD',\n",
       "              'TCGA-C8-A12U',\n",
       "              'TCGA-C8-A130',\n",
       "              'TCGA-C8-A12T'],\n",
       "             'g': ['TCGA-AO-A0J6',\n",
       "              'TCGA-BH-A0E9',\n",
       "              'TCGA-A8-A06N',\n",
       "              'TCGA-AO-A0JC',\n",
       "              'TCGA-AO-A126',\n",
       "              'TCGA-AR-A0TR',\n",
       "              'TCGA-BH-A18N',\n",
       "              'TCGA-AN-A0FK',\n",
       "              'TCGA-AO-A12B',\n",
       "              'TCGA-AO-A12B',\n",
       "              'TCGA-A8-A08Z',\n",
       "              'TCGA-AR-A1AW',\n",
       "              'TCGA-E2-A154',\n",
       "              'TCGA-A2-A0YC',\n",
       "              'TCGA-AO-A0J9',\n",
       "              'TCGA-AR-A1AS',\n",
       "              'TCGA-A2-A0EX',\n",
       "              'TCGA-A2-A0EV',\n",
       "              'TCGA-A2-A0T6',\n",
       "              'TCGA-A2-A0YF',\n",
       "              'TCGA-BH-A0BV',\n",
       "              'TCGA-AR-A1AP',\n",
       "              'TCGA-A2-A0YD',\n",
       "              'TCGA-AN-A04A',\n",
       "              'TCGA-A7-A0CJ'],\n",
       "             'm': ['TCGA-AO-A0JJ',\n",
       "              'TCGA-AR-A0TX',\n",
       "              'TCGA-AR-A0TT',\n",
       "              'TCGA-AN-A0AM',\n",
       "              'TCGA-AO-A0JM',\n",
       "              'TCGA-A2-A0EY',\n",
       "              'TCGA-A8-A076',\n",
       "              'TCGA-A8-A09G',\n",
       "              'TCGA-AO-A0JE',\n",
       "              'TCGA-AO-A12D',\n",
       "              'TCGA-C8-A12Z',\n",
       "              'TCGA-BH-A0DG',\n",
       "              'TCGA-AO-A12D',\n",
       "              'TCGA-C8-A135',\n",
       "              'TCGA-BH-A18U',\n",
       "              'TCGA-C8-A138',\n",
       "              'TCGA-E2-A15A'],\n",
       "             'r': ['TCGA-A2-A0YM',\n",
       "              'TCGA-BH-A0AV',\n",
       "              'TCGA-BH-A18Q',\n",
       "              'TCGA-AN-A0FL',\n",
       "              'TCGA-D8-A142',\n",
       "              'TCGA-E2-A158',\n",
       "              'TCGA-C8-A131',\n",
       "              'TCGA-C8-A131',\n",
       "              'TCGA-A2-A0CM',\n",
       "              'TCGA-A2-A0D2',\n",
       "              'TCGA-A7-A0CE',\n",
       "              'TCGA-AO-A12F',\n",
       "              'TCGA-C8-A134',\n",
       "              'TCGA-AO-A0JL',\n",
       "              'TCGA-C8-A12V',\n",
       "              'TCGA-AR-A0U4',\n",
       "              'TCGA-AN-A0AL',\n",
       "              'TCGA-BH-A0C1',\n",
       "              'TCGA-C8-A12L',\n",
       "              'TCGA-A2-A0SX',\n",
       "              'TCGA-A2-A0EQ']})"
      ]
     },
     "execution_count": 55,
     "metadata": {},
     "output_type": "execute_result"
    }
   ],
   "source": [
    "from collections import defaultdict\n",
    "cluster_idxs = defaultdict(list)\n",
    "for c, pi in zip(den['color_list'], den['icoord']):\n",
    "    for leg in pi[1:3]:\n",
    "        i = (leg - 5.0) / 10.0\n",
    "        if abs(i - int(i)) < 1e-5:\n",
    "            cluster_idxs[c].append(den['ivl'][int(i)])\n",
    "cluster_idxs"
   ]
  },
  {
   "cell_type": "code",
   "execution_count": 56,
   "metadata": {
    "_uuid": "0a5c928e778fbb1fb62b27d67b741278bb1dacdc"
   },
   "outputs": [],
   "source": [
    "##is this division accurate? \n",
    "labels_pred=[]\n",
    "\n",
    "#Messy part: we need to re-order the elements in order to compare them with the original labels\n",
    "for k in cluster_idxs:\n",
    "    for el in cluster_idxs[k]:\n",
    "        labels_pred.append([el,k])"
   ]
  },
  {
   "cell_type": "code",
   "execution_count": 57,
   "metadata": {
    "_uuid": "3a57841d800f6c5c5cf3ca4d5c891a6548841246",
    "collapsed": true
   },
   "outputs": [],
   "source": [
    "#create a dataframe and set the index in order to merge the indexes with the reference\n",
    "labels_pred=pd.DataFrame(labels_pred)\n",
    "labels_pred.index=labels_pred[0]\n"
   ]
  },
  {
   "cell_type": "code",
   "execution_count": 58,
   "metadata": {
    "_uuid": "0cc2e18a4bd52c32a350136b706db903e4f32155"
   },
   "outputs": [
    {
     "data": {
      "text/html": [
       "<div>\n",
       "<style>\n",
       "    .dataframe thead tr:only-child th {\n",
       "        text-align: right;\n",
       "    }\n",
       "\n",
       "    .dataframe thead th {\n",
       "        text-align: left;\n",
       "    }\n",
       "\n",
       "    .dataframe tbody tr th {\n",
       "        vertical-align: top;\n",
       "    }\n",
       "</style>\n",
       "<table border=\"1\" class=\"dataframe\">\n",
       "  <thead>\n",
       "    <tr style=\"text-align: right;\">\n",
       "      <th></th>\n",
       "      <th>0</th>\n",
       "      <th>1</th>\n",
       "      <th>PAM50 mRNA</th>\n",
       "    </tr>\n",
       "  </thead>\n",
       "  <tbody>\n",
       "    <tr>\n",
       "      <th>TCGA-A2-A0CM</th>\n",
       "      <td>TCGA-A2-A0CM</td>\n",
       "      <td>r</td>\n",
       "      <td>Basal-like</td>\n",
       "    </tr>\n",
       "    <tr>\n",
       "      <th>TCGA-A2-A0D2</th>\n",
       "      <td>TCGA-A2-A0D2</td>\n",
       "      <td>r</td>\n",
       "      <td>Basal-like</td>\n",
       "    </tr>\n",
       "    <tr>\n",
       "      <th>TCGA-A2-A0EQ</th>\n",
       "      <td>TCGA-A2-A0EQ</td>\n",
       "      <td>r</td>\n",
       "      <td>HER2-enriched</td>\n",
       "    </tr>\n",
       "    <tr>\n",
       "      <th>TCGA-A2-A0EV</th>\n",
       "      <td>TCGA-A2-A0EV</td>\n",
       "      <td>g</td>\n",
       "      <td>Luminal A</td>\n",
       "    </tr>\n",
       "    <tr>\n",
       "      <th>TCGA-A2-A0EX</th>\n",
       "      <td>TCGA-A2-A0EX</td>\n",
       "      <td>g</td>\n",
       "      <td>Luminal A</td>\n",
       "    </tr>\n",
       "  </tbody>\n",
       "</table>\n",
       "</div>"
      ],
      "text/plain": [
       "                         0  1     PAM50 mRNA\n",
       "TCGA-A2-A0CM  TCGA-A2-A0CM  r     Basal-like\n",
       "TCGA-A2-A0D2  TCGA-A2-A0D2  r     Basal-like\n",
       "TCGA-A2-A0EQ  TCGA-A2-A0EQ  r  HER2-enriched\n",
       "TCGA-A2-A0EV  TCGA-A2-A0EV  g      Luminal A\n",
       "TCGA-A2-A0EX  TCGA-A2-A0EX  g      Luminal A"
      ]
     },
     "execution_count": 58,
     "metadata": {},
     "output_type": "execute_result"
    }
   ],
   "source": [
    "ref=pd.DataFrame(processed['PAM50 mRNA'])\n",
    "final=labels_pred.merge(ref,left_index=True,right_index=True)\n",
    "final.head()"
   ]
  },
  {
   "cell_type": "code",
   "execution_count": 59,
   "metadata": {
    "_uuid": "325e8e99a35c2b6fdbf1947aa1b46ae5ad6bbf98"
   },
   "outputs": [
    {
     "name": "stdout",
     "output_type": "stream",
     "text": [
      "rand: 0.4285226531201588\n",
      "mutual_info: 0.459886888196437\n"
     ]
    }
   ],
   "source": [
    "from sklearn.metrics import adjusted_rand_score as rn\n",
    "from sklearn.metrics import adjusted_mutual_info_score as mi\n",
    "rand=rn(final['PAM50 mRNA'], final[1])\n",
    "info=mi(final['PAM50 mRNA'], final[1])\n",
    "print('rand: {}\\nmutual_info: {}'.format(rand,info))"
   ]
  },
  {
   "cell_type": "code",
   "execution_count": 60,
   "metadata": {
    "_uuid": "a4aa15671810b08e0cc781239ca11a5ef1cfb9de"
   },
   "outputs": [
    {
     "data": {
      "text/html": [
       "<div>\n",
       "<style>\n",
       "    .dataframe thead tr:only-child th {\n",
       "        text-align: right;\n",
       "    }\n",
       "\n",
       "    .dataframe thead th {\n",
       "        text-align: left;\n",
       "    }\n",
       "\n",
       "    .dataframe tbody tr th {\n",
       "        vertical-align: top;\n",
       "    }\n",
       "</style>\n",
       "<table border=\"1\" class=\"dataframe\">\n",
       "  <thead>\n",
       "    <tr style=\"text-align: right;\">\n",
       "      <th>1</th>\n",
       "      <th>c</th>\n",
       "      <th>g</th>\n",
       "      <th>m</th>\n",
       "      <th>r</th>\n",
       "    </tr>\n",
       "    <tr>\n",
       "      <th>PAM50 mRNA</th>\n",
       "      <th></th>\n",
       "      <th></th>\n",
       "      <th></th>\n",
       "      <th></th>\n",
       "    </tr>\n",
       "  </thead>\n",
       "  <tbody>\n",
       "    <tr>\n",
       "      <th>Basal-like</th>\n",
       "      <td>0</td>\n",
       "      <td>1</td>\n",
       "      <td>0</td>\n",
       "      <td>20</td>\n",
       "    </tr>\n",
       "    <tr>\n",
       "      <th>HER2-enriched</th>\n",
       "      <td>2</td>\n",
       "      <td>0</td>\n",
       "      <td>11</td>\n",
       "      <td>2</td>\n",
       "    </tr>\n",
       "    <tr>\n",
       "      <th>Luminal A</th>\n",
       "      <td>2</td>\n",
       "      <td>18</td>\n",
       "      <td>2</td>\n",
       "      <td>1</td>\n",
       "    </tr>\n",
       "    <tr>\n",
       "      <th>Luminal B</th>\n",
       "      <td>13</td>\n",
       "      <td>8</td>\n",
       "      <td>6</td>\n",
       "      <td>0</td>\n",
       "    </tr>\n",
       "  </tbody>\n",
       "</table>\n",
       "</div>"
      ],
      "text/plain": [
       "1               c   g   m   r\n",
       "PAM50 mRNA                   \n",
       "Basal-like      0   1   0  20\n",
       "HER2-enriched   2   0  11   2\n",
       "Luminal A       2  18   2   1\n",
       "Luminal B      13   8   6   0"
      ]
     },
     "execution_count": 60,
     "metadata": {},
     "output_type": "execute_result"
    }
   ],
   "source": [
    "pd.crosstab(final['PAM50 mRNA'], final[1])"
   ]
  },
  {
   "cell_type": "markdown",
   "metadata": {
    "_uuid": "169b304f42d740d38a843b4d798b075c7a930a14"
   },
   "source": [
    "In the end the ensemble clustering did not make a better clustering, but sure it is a stronger one. "
   ]
  },
  {
   "cell_type": "code",
   "execution_count": null,
   "metadata": {
    "collapsed": true
   },
   "outputs": [],
   "source": []
  },
  {
   "cell_type": "code",
   "execution_count": null,
   "metadata": {
    "collapsed": true
   },
   "outputs": [],
   "source": []
  }
 ],
 "metadata": {
  "kernelspec": {
   "display_name": "Python 3",
   "language": "python",
   "name": "python3"
  },
  "language_info": {
   "codemirror_mode": {
    "name": "ipython",
    "version": 3
   },
   "file_extension": ".py",
   "mimetype": "text/x-python",
   "name": "python",
   "nbconvert_exporter": "python",
   "pygments_lexer": "ipython3",
   "version": "3.6.1"
  }
 },
 "nbformat": 4,
 "nbformat_minor": 1
}
