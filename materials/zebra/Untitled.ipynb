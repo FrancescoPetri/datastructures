{
 "cells": [
  {
   "cell_type": "code",
   "execution_count": 15,
   "metadata": {
    "collapsed": false
   },
   "outputs": [],
   "source": [
    "import itertools\n",
    "import time\n",
    "def imright(right,left):\n",
    "\treturn 1==(right-left)\n",
    "\n",
    "def nextto(A,B):\n",
    "\treturn 1==(A-B) or 1==(B-A)\n",
    "\n",
    "def zebra_puzzle():\n",
    "\thouses = first, _ , middle, _, _ = [1,2,3,4,5]\n",
    "\torderings = list(itertools.permutations(houses))\n",
    "\n",
    "\tsolution=[(WATER, ZEBRA) \n",
    "\t\t\t\t\tfor (red,green,ivory,yellow,blue) in orderings\n",
    "\t\t\t\t\tfor (Englishman,Spaniard,Ukrainian,Japanese,Norwegian) in orderings\n",
    "\t\t\t\t\tfor (dog,snails, fox, horse, ZEBRA) in orderings\n",
    "\t\t\t\t\tfor (coffee, tea, milk, oj, WATER) in orderings\n",
    "\t\t\t\t\tfor (OldGold, Kools, Chesterfields, LuckyStrike, Parliaments) in orderings\n",
    "\t\t\t\t\tif Englishman is red\n",
    "\t\t\t\t\tif Spaniard is dog\n",
    "\t\t\t\t\tif coffee is green\n",
    "\t\t\t\t\tif Ukrainian is tea\n",
    "\t\t\t\t\tif imright(green,ivory)\n",
    "\t\t\t\t\tif OldGold is snails\n",
    "\t\t\t\t\tif Kools is yellow\n",
    "\t\t\t\t\tif milk is middle\n",
    "\t\t\t\t\tif Norwegian is first\n",
    "\t\t\t\t\tif nextto(Chesterfields, fox)\n",
    "\t\t\t\t\tif nextto(Kools, horse)\n",
    "\t\t\t\t\tif LuckyStrike is oj\n",
    "\t\t\t\t\tif Japanese is Parliaments\n",
    "\t\t\t\t\t#if nextto(Norwegian,blue)\n",
    "\t\t\t\t\t]\n",
    "\treturn solution\n",
    "\n"
   ]
  },
  {
   "cell_type": "code",
   "execution_count": 16,
   "metadata": {
    "collapsed": false
   },
   "outputs": [
    {
     "ename": "KeyboardInterrupt",
     "evalue": "",
     "output_type": "error",
     "traceback": [
      "\u001b[0;31m---------------------------------------------------------------------------\u001b[0m",
      "\u001b[0;31mKeyboardInterrupt\u001b[0m                         Traceback (most recent call last)",
      "\u001b[0;32m<ipython-input-16-351c29ac3314>\u001b[0m in \u001b[0;36m<module>\u001b[0;34m()\u001b[0m\n\u001b[1;32m      1\u001b[0m \u001b[0mt0\u001b[0m\u001b[0;34m=\u001b[0m\u001b[0mtime\u001b[0m\u001b[0;34m.\u001b[0m\u001b[0mtime\u001b[0m\u001b[0;34m(\u001b[0m\u001b[0;34m)\u001b[0m\u001b[0;34m\u001b[0m\u001b[0m\n\u001b[0;32m----> 2\u001b[0;31m \u001b[0mprint\u001b[0m\u001b[0;34m(\u001b[0m\u001b[0mzebra_puzzle\u001b[0m\u001b[0;34m(\u001b[0m\u001b[0;34m)\u001b[0m\u001b[0;34m)\u001b[0m\u001b[0;34m\u001b[0m\u001b[0m\n\u001b[0m\u001b[1;32m      3\u001b[0m \u001b[0mt1\u001b[0m\u001b[0;34m=\u001b[0m\u001b[0mtime\u001b[0m\u001b[0;34m.\u001b[0m\u001b[0mtime\u001b[0m\u001b[0;34m(\u001b[0m\u001b[0;34m)\u001b[0m\u001b[0;34m\u001b[0m\u001b[0m\n\u001b[1;32m      4\u001b[0m \u001b[0mprint\u001b[0m\u001b[0;34m(\u001b[0m\u001b[0mstr\u001b[0m\u001b[0;34m(\u001b[0m\u001b[0mt1\u001b[0m\u001b[0;34m-\u001b[0m\u001b[0mt0\u001b[0m\u001b[0;34m)\u001b[0m \u001b[0;34m+\u001b[0m \u001b[0;34m\" s\"\u001b[0m\u001b[0;34m)\u001b[0m\u001b[0;34m\u001b[0m\u001b[0m\n",
      "\u001b[0;32m<ipython-input-15-d5cb0e53d572>\u001b[0m in \u001b[0;36mzebra_puzzle\u001b[0;34m()\u001b[0m\n\u001b[1;32m     12\u001b[0m \u001b[0;34m\u001b[0m\u001b[0m\n\u001b[1;32m     13\u001b[0m \tsolution=[(WATER, ZEBRA) \n\u001b[0;32m---> 14\u001b[0;31m                                         \u001b[0;32mfor\u001b[0m \u001b[0;34m(\u001b[0m\u001b[0mred\u001b[0m\u001b[0;34m,\u001b[0m\u001b[0mgreen\u001b[0m\u001b[0;34m,\u001b[0m\u001b[0mivory\u001b[0m\u001b[0;34m,\u001b[0m\u001b[0myellow\u001b[0m\u001b[0;34m,\u001b[0m\u001b[0mblue\u001b[0m\u001b[0;34m)\u001b[0m \u001b[0;32min\u001b[0m \u001b[0morderings\u001b[0m\u001b[0;34m\u001b[0m\u001b[0m\n\u001b[0m\u001b[1;32m     15\u001b[0m                                         \u001b[0;32mfor\u001b[0m \u001b[0;34m(\u001b[0m\u001b[0mEnglishman\u001b[0m\u001b[0;34m,\u001b[0m\u001b[0mSpaniard\u001b[0m\u001b[0;34m,\u001b[0m\u001b[0mUkrainian\u001b[0m\u001b[0;34m,\u001b[0m\u001b[0mJapanese\u001b[0m\u001b[0;34m,\u001b[0m\u001b[0mNorwegian\u001b[0m\u001b[0;34m)\u001b[0m \u001b[0;32min\u001b[0m \u001b[0morderings\u001b[0m\u001b[0;34m\u001b[0m\u001b[0m\n\u001b[1;32m     16\u001b[0m                                         \u001b[0;32mfor\u001b[0m \u001b[0;34m(\u001b[0m\u001b[0mdog\u001b[0m\u001b[0;34m,\u001b[0m\u001b[0msnails\u001b[0m\u001b[0;34m,\u001b[0m \u001b[0mfox\u001b[0m\u001b[0;34m,\u001b[0m \u001b[0mhorse\u001b[0m\u001b[0;34m,\u001b[0m \u001b[0mZEBRA\u001b[0m\u001b[0;34m)\u001b[0m \u001b[0;32min\u001b[0m \u001b[0morderings\u001b[0m\u001b[0;34m\u001b[0m\u001b[0m\n",
      "\u001b[0;32m<ipython-input-15-d5cb0e53d572>\u001b[0m in \u001b[0;36m<listcomp>\u001b[0;34m(.0)\u001b[0m\n\u001b[1;32m     17\u001b[0m                                         \u001b[0;32mfor\u001b[0m \u001b[0;34m(\u001b[0m\u001b[0mcoffee\u001b[0m\u001b[0;34m,\u001b[0m \u001b[0mtea\u001b[0m\u001b[0;34m,\u001b[0m \u001b[0mmilk\u001b[0m\u001b[0;34m,\u001b[0m \u001b[0moj\u001b[0m\u001b[0;34m,\u001b[0m \u001b[0mWATER\u001b[0m\u001b[0;34m)\u001b[0m \u001b[0;32min\u001b[0m \u001b[0morderings\u001b[0m\u001b[0;34m\u001b[0m\u001b[0m\n\u001b[1;32m     18\u001b[0m                                         \u001b[0;32mfor\u001b[0m \u001b[0;34m(\u001b[0m\u001b[0mOldGold\u001b[0m\u001b[0;34m,\u001b[0m \u001b[0mKools\u001b[0m\u001b[0;34m,\u001b[0m \u001b[0mChesterfields\u001b[0m\u001b[0;34m,\u001b[0m \u001b[0mLuckyStrike\u001b[0m\u001b[0;34m,\u001b[0m \u001b[0mParliaments\u001b[0m\u001b[0;34m)\u001b[0m \u001b[0;32min\u001b[0m \u001b[0morderings\u001b[0m\u001b[0;34m\u001b[0m\u001b[0m\n\u001b[0;32m---> 19\u001b[0;31m                                         \u001b[0;32mif\u001b[0m \u001b[0mEnglishman\u001b[0m \u001b[0;32mis\u001b[0m \u001b[0mred\u001b[0m\u001b[0;34m\u001b[0m\u001b[0m\n\u001b[0m\u001b[1;32m     20\u001b[0m                                         \u001b[0;32mif\u001b[0m \u001b[0mSpaniard\u001b[0m \u001b[0;32mis\u001b[0m \u001b[0mdog\u001b[0m\u001b[0;34m\u001b[0m\u001b[0m\n\u001b[1;32m     21\u001b[0m                                         \u001b[0;32mif\u001b[0m \u001b[0mcoffee\u001b[0m \u001b[0;32mis\u001b[0m \u001b[0mgreen\u001b[0m\u001b[0;34m\u001b[0m\u001b[0m\n",
      "\u001b[0;31mKeyboardInterrupt\u001b[0m: "
     ]
    }
   ],
   "source": [
    "t0=time.time()\n",
    "print(zebra_puzzle())\n",
    "t1=time.time()\n",
    "print(str(t1-t0) + \" s\")"
   ]
  },
  {
   "cell_type": "code",
   "execution_count": null,
   "metadata": {
    "collapsed": true
   },
   "outputs": [],
   "source": []
  }
 ],
 "metadata": {
  "kernelspec": {
   "display_name": "Python 3",
   "language": "python",
   "name": "python3"
  },
  "language_info": {
   "codemirror_mode": {
    "name": "ipython",
    "version": 3
   },
   "file_extension": ".py",
   "mimetype": "text/x-python",
   "name": "python",
   "nbconvert_exporter": "python",
   "pygments_lexer": "ipython3",
   "version": "3.6.0"
  }
 },
 "nbformat": 4,
 "nbformat_minor": 2
}
